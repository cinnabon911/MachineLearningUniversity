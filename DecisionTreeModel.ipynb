{
 "cells": [
  {
   "cell_type": "markdown",
   "id": "9b190587-b763-4043-9173-e2318070015f",
   "metadata": {},
   "source": [
    "# Decision Tree model"
   ]
  },
  {
   "cell_type": "markdown",
   "id": "d72df260-a4e0-4abe-aac3-e1f8f896c280",
   "metadata": {},
   "source": [
    "### In this notebook, we build, train, and tune by GridSearchCV a Decision Tree Classifier to predict the Outcome Type field of our review dataset."
   ]
  },
  {
   "cell_type": "markdown",
   "id": "ac304613-433e-4395-80fc-27e3a4860f48",
   "metadata": {},
   "source": [
    "## 1. Read the dataset and perform EDA\n",
    "* Identify features and target\n",
    "* Split features into numerical, categorical, and text\n",
    "* Check distribution of numerical features, remove outliers\n",
    "* Check unique values of categorical and text features, handle nan\n",
    "* Preprocess text features (clean and apply stemming)"
   ]
  },
  {
   "cell_type": "code",
   "execution_count": 1,
   "id": "1dad280c-49af-4cf9-8d4d-edf3412a7cf1",
   "metadata": {},
   "outputs": [
    {
     "data": {
      "text/html": [
       "<div>\n",
       "<style scoped>\n",
       "    .dataframe tbody tr th:only-of-type {\n",
       "        vertical-align: middle;\n",
       "    }\n",
       "\n",
       "    .dataframe tbody tr th {\n",
       "        vertical-align: top;\n",
       "    }\n",
       "\n",
       "    .dataframe thead th {\n",
       "        text-align: right;\n",
       "    }\n",
       "</style>\n",
       "<table border=\"1\" class=\"dataframe\">\n",
       "  <thead>\n",
       "    <tr style=\"text-align: right;\">\n",
       "      <th></th>\n",
       "      <th>Pet ID</th>\n",
       "      <th>Outcome Type</th>\n",
       "      <th>Sex upon Outcome</th>\n",
       "      <th>Name</th>\n",
       "      <th>Found Location</th>\n",
       "      <th>Intake Type</th>\n",
       "      <th>Intake Condition</th>\n",
       "      <th>Pet Type</th>\n",
       "      <th>Sex upon Intake</th>\n",
       "      <th>Breed</th>\n",
       "      <th>Color</th>\n",
       "      <th>Age upon Intake Days</th>\n",
       "      <th>Age upon Outcome Days</th>\n",
       "    </tr>\n",
       "  </thead>\n",
       "  <tbody>\n",
       "    <tr>\n",
       "      <th>0</th>\n",
       "      <td>A794011</td>\n",
       "      <td>1.0</td>\n",
       "      <td>Neutered Male</td>\n",
       "      <td>Chunk</td>\n",
       "      <td>Austin (TX)</td>\n",
       "      <td>Owner Surrender</td>\n",
       "      <td>Normal</td>\n",
       "      <td>Cat</td>\n",
       "      <td>Neutered Male</td>\n",
       "      <td>Domestic Shorthair Mix</td>\n",
       "      <td>Brown Tabby/White</td>\n",
       "      <td>730</td>\n",
       "      <td>730</td>\n",
       "    </tr>\n",
       "    <tr>\n",
       "      <th>1</th>\n",
       "      <td>A776359</td>\n",
       "      <td>1.0</td>\n",
       "      <td>Neutered Male</td>\n",
       "      <td>Gizmo</td>\n",
       "      <td>7201 Levander Loop in Austin (TX)</td>\n",
       "      <td>Stray</td>\n",
       "      <td>Normal</td>\n",
       "      <td>Dog</td>\n",
       "      <td>Intact Male</td>\n",
       "      <td>Chihuahua Shorthair Mix</td>\n",
       "      <td>White/Brown</td>\n",
       "      <td>365</td>\n",
       "      <td>365</td>\n",
       "    </tr>\n",
       "    <tr>\n",
       "      <th>2</th>\n",
       "      <td>A674754</td>\n",
       "      <td>0.0</td>\n",
       "      <td>Intact Male</td>\n",
       "      <td>NaN</td>\n",
       "      <td>12034 Research in Austin (TX)</td>\n",
       "      <td>Stray</td>\n",
       "      <td>Nursing</td>\n",
       "      <td>Cat</td>\n",
       "      <td>Intact Male</td>\n",
       "      <td>Domestic Shorthair Mix</td>\n",
       "      <td>Orange Tabby</td>\n",
       "      <td>6</td>\n",
       "      <td>6</td>\n",
       "    </tr>\n",
       "    <tr>\n",
       "      <th>3</th>\n",
       "      <td>A689724</td>\n",
       "      <td>1.0</td>\n",
       "      <td>Neutered Male</td>\n",
       "      <td>*Donatello</td>\n",
       "      <td>2300 Waterway Bnd in Austin (TX)</td>\n",
       "      <td>Stray</td>\n",
       "      <td>Normal</td>\n",
       "      <td>Cat</td>\n",
       "      <td>Intact Male</td>\n",
       "      <td>Domestic Shorthair Mix</td>\n",
       "      <td>Black</td>\n",
       "      <td>60</td>\n",
       "      <td>60</td>\n",
       "    </tr>\n",
       "    <tr>\n",
       "      <th>4</th>\n",
       "      <td>A680969</td>\n",
       "      <td>1.0</td>\n",
       "      <td>Neutered Male</td>\n",
       "      <td>*Zeus</td>\n",
       "      <td>4701 Staggerbrush Rd in Austin (TX)</td>\n",
       "      <td>Stray</td>\n",
       "      <td>Nursing</td>\n",
       "      <td>Cat</td>\n",
       "      <td>Intact Male</td>\n",
       "      <td>Domestic Shorthair Mix</td>\n",
       "      <td>White/Orange Tabby</td>\n",
       "      <td>7</td>\n",
       "      <td>60</td>\n",
       "    </tr>\n",
       "  </tbody>\n",
       "</table>\n",
       "</div>"
      ],
      "text/plain": [
       "    Pet ID  Outcome Type Sex upon Outcome        Name  \\\n",
       "0  A794011           1.0    Neutered Male       Chunk   \n",
       "1  A776359           1.0    Neutered Male       Gizmo   \n",
       "2  A674754           0.0      Intact Male         NaN   \n",
       "3  A689724           1.0    Neutered Male  *Donatello   \n",
       "4  A680969           1.0    Neutered Male       *Zeus   \n",
       "\n",
       "                        Found Location      Intake Type Intake Condition  \\\n",
       "0                          Austin (TX)  Owner Surrender           Normal   \n",
       "1    7201 Levander Loop in Austin (TX)            Stray           Normal   \n",
       "2        12034 Research in Austin (TX)            Stray          Nursing   \n",
       "3     2300 Waterway Bnd in Austin (TX)            Stray           Normal   \n",
       "4  4701 Staggerbrush Rd in Austin (TX)            Stray          Nursing   \n",
       "\n",
       "  Pet Type Sex upon Intake                    Breed               Color  \\\n",
       "0      Cat   Neutered Male   Domestic Shorthair Mix   Brown Tabby/White   \n",
       "1      Dog     Intact Male  Chihuahua Shorthair Mix         White/Brown   \n",
       "2      Cat     Intact Male   Domestic Shorthair Mix        Orange Tabby   \n",
       "3      Cat     Intact Male   Domestic Shorthair Mix               Black   \n",
       "4      Cat     Intact Male   Domestic Shorthair Mix  White/Orange Tabby   \n",
       "\n",
       "   Age upon Intake Days  Age upon Outcome Days  \n",
       "0                   730                    730  \n",
       "1                   365                    365  \n",
       "2                     6                      6  \n",
       "3                    60                     60  \n",
       "4                     7                     60  "
      ]
     },
     "execution_count": 1,
     "metadata": {},
     "output_type": "execute_result"
    }
   ],
   "source": [
    "import pandas as pd\n",
    "df = pd.read_csv('data/review_dataset.csv')\n",
    "df.head()"
   ]
  },
  {
   "cell_type": "code",
   "execution_count": 2,
   "id": "04117a93-e79a-4882-957f-f80a2c4cda1d",
   "metadata": {},
   "outputs": [
    {
     "name": "stdout",
     "output_type": "stream",
     "text": [
      "<class 'pandas.core.frame.DataFrame'>\n",
      "RangeIndex: 95485 entries, 0 to 95484\n",
      "Data columns (total 13 columns):\n",
      " #   Column                 Non-Null Count  Dtype  \n",
      "---  ------                 --------------  -----  \n",
      " 0   Pet ID                 95485 non-null  object \n",
      " 1   Outcome Type           95485 non-null  float64\n",
      " 2   Sex upon Outcome       95484 non-null  object \n",
      " 3   Name                   59138 non-null  object \n",
      " 4   Found Location         95485 non-null  object \n",
      " 5   Intake Type            95485 non-null  object \n",
      " 6   Intake Condition       95485 non-null  object \n",
      " 7   Pet Type               95485 non-null  object \n",
      " 8   Sex upon Intake        95484 non-null  object \n",
      " 9   Breed                  95485 non-null  object \n",
      " 10  Color                  95485 non-null  object \n",
      " 11  Age upon Intake Days   95485 non-null  int64  \n",
      " 12  Age upon Outcome Days  95485 non-null  int64  \n",
      "dtypes: float64(1), int64(2), object(10)\n",
      "memory usage: 9.5+ MB\n"
     ]
    }
   ],
   "source": [
    "df.info()"
   ]
  },
  {
   "cell_type": "code",
   "execution_count": 3,
   "id": "b8aafb45-2516-4fb4-a4a5-c39cb43ee1d6",
   "metadata": {},
   "outputs": [
    {
     "data": {
      "text/html": [
       "<div>\n",
       "<style scoped>\n",
       "    .dataframe tbody tr th:only-of-type {\n",
       "        vertical-align: middle;\n",
       "    }\n",
       "\n",
       "    .dataframe tbody tr th {\n",
       "        vertical-align: top;\n",
       "    }\n",
       "\n",
       "    .dataframe thead th {\n",
       "        text-align: right;\n",
       "    }\n",
       "</style>\n",
       "<table border=\"1\" class=\"dataframe\">\n",
       "  <thead>\n",
       "    <tr style=\"text-align: right;\">\n",
       "      <th></th>\n",
       "      <th>Outcome Type</th>\n",
       "      <th>Age upon Intake Days</th>\n",
       "      <th>Age upon Outcome Days</th>\n",
       "    </tr>\n",
       "  </thead>\n",
       "  <tbody>\n",
       "    <tr>\n",
       "      <th>count</th>\n",
       "      <td>95485.000000</td>\n",
       "      <td>95485.000000</td>\n",
       "      <td>95485.000000</td>\n",
       "    </tr>\n",
       "    <tr>\n",
       "      <th>mean</th>\n",
       "      <td>0.564005</td>\n",
       "      <td>703.436959</td>\n",
       "      <td>717.757313</td>\n",
       "    </tr>\n",
       "    <tr>\n",
       "      <th>std</th>\n",
       "      <td>0.495889</td>\n",
       "      <td>1052.252197</td>\n",
       "      <td>1055.023160</td>\n",
       "    </tr>\n",
       "    <tr>\n",
       "      <th>min</th>\n",
       "      <td>0.000000</td>\n",
       "      <td>0.000000</td>\n",
       "      <td>0.000000</td>\n",
       "    </tr>\n",
       "    <tr>\n",
       "      <th>25%</th>\n",
       "      <td>0.000000</td>\n",
       "      <td>30.000000</td>\n",
       "      <td>60.000000</td>\n",
       "    </tr>\n",
       "    <tr>\n",
       "      <th>50%</th>\n",
       "      <td>1.000000</td>\n",
       "      <td>365.000000</td>\n",
       "      <td>365.000000</td>\n",
       "    </tr>\n",
       "    <tr>\n",
       "      <th>75%</th>\n",
       "      <td>1.000000</td>\n",
       "      <td>730.000000</td>\n",
       "      <td>730.000000</td>\n",
       "    </tr>\n",
       "    <tr>\n",
       "      <th>max</th>\n",
       "      <td>1.000000</td>\n",
       "      <td>9125.000000</td>\n",
       "      <td>9125.000000</td>\n",
       "    </tr>\n",
       "  </tbody>\n",
       "</table>\n",
       "</div>"
      ],
      "text/plain": [
       "       Outcome Type  Age upon Intake Days  Age upon Outcome Days\n",
       "count  95485.000000          95485.000000           95485.000000\n",
       "mean       0.564005            703.436959             717.757313\n",
       "std        0.495889           1052.252197            1055.023160\n",
       "min        0.000000              0.000000               0.000000\n",
       "25%        0.000000             30.000000              60.000000\n",
       "50%        1.000000            365.000000             365.000000\n",
       "75%        1.000000            730.000000             730.000000\n",
       "max        1.000000           9125.000000            9125.000000"
      ]
     },
     "execution_count": 3,
     "metadata": {},
     "output_type": "execute_result"
    }
   ],
   "source": [
    "df.describe()"
   ]
  },
  {
   "cell_type": "code",
   "execution_count": 4,
   "id": "131d6dec-9f07-4bbb-81d2-a8ed3e433833",
   "metadata": {},
   "outputs": [
    {
     "data": {
      "text/plain": [
       "Index(['Pet ID', 'Sex upon Outcome', 'Name', 'Found Location', 'Intake Type',\n",
       "       'Intake Condition', 'Pet Type', 'Sex upon Intake', 'Breed', 'Color',\n",
       "       'Age upon Intake Days', 'Age upon Outcome Days'],\n",
       "      dtype='object')"
      ]
     },
     "execution_count": 4,
     "metadata": {},
     "output_type": "execute_result"
    }
   ],
   "source": [
    "#Separate target and features\n",
    "target = 'Outcome Type'\n",
    "features = df.drop(target, axis = 1).columns\n",
    "features"
   ]
  },
  {
   "cell_type": "code",
   "execution_count": 5,
   "id": "98cd6b81-1604-4ca1-925a-11626f29c3a9",
   "metadata": {},
   "outputs": [
    {
     "name": "stdout",
     "output_type": "stream",
     "text": [
      "Categorical features are Index(['Pet ID', 'Sex upon Outcome', 'Name', 'Found Location', 'Intake Type',\n",
      "       'Intake Condition', 'Pet Type', 'Sex upon Intake', 'Breed', 'Color'],\n",
      "      dtype='object')\n",
      "Numerical features are Index(['Age upon Intake Days', 'Age upon Outcome Days'], dtype='object')\n"
     ]
    }
   ],
   "source": [
    "##separate categorical features and numerical features \n",
    "import numpy as np\n",
    "cat = df[features].select_dtypes(include = 'object').columns\n",
    "num = df[features].select_dtypes(include = np.number).columns\n",
    "print(\"Categorical features are\", cat)\n",
    "print(\"Numerical features are\", num)"
   ]
  },
  {
   "cell_type": "code",
   "execution_count": 6,
   "id": "b7bcef8c-f1c8-4c3a-b629-b264b0734d82",
   "metadata": {},
   "outputs": [
    {
     "data": {
      "image/png": "[encoded data removed]",
      "text/plain": [
       "<Figure size 432x288 with 1 Axes>"
      ]
     },
     "metadata": {
      "needs_background": "light"
     },
     "output_type": "display_data"
    }
   ],
   "source": [
    "#check the distribution of target \n",
    "import matplotlib.pyplot as plt\n",
    "df[target].value_counts().plot.bar()\n",
    "plt.show()\n",
    "%matplotlib inline"
   ]
  },
  {
   "cell_type": "code",
   "execution_count": 7,
   "id": "9b5b670a-182c-4cf9-b06f-fadfe0a9d36b",
   "metadata": {},
   "outputs": [
    {
     "name": "stdout",
     "output_type": "stream",
     "text": [
      "Age upon Intake Days\n"
     ]
    },
    {
     "data": {
      "image/png": "[encoded data removed]",
      "text/plain": [
       "<Figure size 432x288 with 1 Axes>"
      ]
     },
     "metadata": {
      "needs_background": "light"
     },
     "output_type": "display_data"
    },
    {
     "name": "stdout",
     "output_type": "stream",
     "text": [
      "Age upon Outcome Days\n"
     ]
    },
    {
     "data": {
      "image/png": "[encoded data removed]",
      "text/plain": [
       "<Figure size 432x288 with 1 Axes>"
      ]
     },
     "metadata": {
      "needs_background": "light"
     },
     "output_type": "display_data"
    }
   ],
   "source": [
    "#check the distribution of numerical featuers\n",
    "for n in num: \n",
    "    df[n].plot.hist(bins = 10)\n",
    "    print(n)\n",
    "    plt.show()"
   ]
  },
  {
   "cell_type": "code",
   "execution_count": 8,
   "id": "2ef86922-3717-447e-8104-96b3e4e68689",
   "metadata": {},
   "outputs": [],
   "source": [
    "#remove outliers in numerical features\n",
    "def IQR(df, col):\n",
    "    Q3 = df[col].quantile(0.75)\n",
    "    Q1 = df[col].quantile(0.25)\n",
    "    IQR = Q3 - Q1\n",
    "    dropIndex = df[df[col] > Q3 + 1.5*IQR].index\n",
    "    df.drop(dropIndex, inplace = True)\n",
    "    dropIndex = df[df[col] < Q1 - 1.5*IQR].index\n",
    "    df.drop(dropIndex, inplace = True)\n",
    "    return df    "
   ]
  },
  {
   "cell_type": "code",
   "execution_count": 9,
   "id": "9afd42e8-fdfd-4b52-8b6f-2ae61d2522bd",
   "metadata": {},
   "outputs": [],
   "source": [
    "for n in num: \n",
    "    IQR(df, n)"
   ]
  },
  {
   "cell_type": "code",
   "execution_count": 10,
   "id": "2b7c37c4-d091-4b12-a5b3-1248cbb270d1",
   "metadata": {},
   "outputs": [
    {
     "data": {
      "text/plain": [
       "(82548, 13)"
      ]
     },
     "execution_count": 10,
     "metadata": {},
     "output_type": "execute_result"
    }
   ],
   "source": [
    "df.shape"
   ]
  },
  {
   "cell_type": "code",
   "execution_count": 11,
   "id": "91f2157f-1571-4667-a01b-5dae23be6ef4",
   "metadata": {},
   "outputs": [
    {
     "name": "stdout",
     "output_type": "stream",
     "text": [
      "Age upon Intake Days\n"
     ]
    },
    {
     "data": {
      "image/png": "[encoded data removed]",
      "text/plain": [
       "<Figure size 432x288 with 1 Axes>"
      ]
     },
     "metadata": {
      "needs_background": "light"
     },
     "output_type": "display_data"
    },
    {
     "name": "stdout",
     "output_type": "stream",
     "text": [
      "Age upon Outcome Days\n"
     ]
    },
    {
     "data": {
      "image/png": "[encoded data removed]",
      "text/plain": [
       "<Figure size 432x288 with 1 Axes>"
      ]
     },
     "metadata": {
      "needs_background": "light"
     },
     "output_type": "display_data"
    }
   ],
   "source": [
    "#replot numerical features distribution\n",
    "for n in num:\n",
    "    df[n].plot.hist(bins = 10)\n",
    "    print(n)\n",
    "    plt.show()"
   ]
  },
  {
   "cell_type": "code",
   "execution_count": 12,
   "id": "df8061b4-9524-4622-a872-d00d029e972f",
   "metadata": {},
   "outputs": [
    {
     "name": "stdout",
     "output_type": "stream",
     "text": [
      "Sex upon Outcome\n"
     ]
    },
    {
     "data": {
      "image/png": "[encoded data removed]",
      "text/plain": [
       "<Figure size 432x288 with 1 Axes>"
      ]
     },
     "metadata": {
      "needs_background": "light"
     },
     "output_type": "display_data"
    },
    {
     "name": "stdout",
     "output_type": "stream",
     "text": [
      "Intake Type\n"
     ]
    },
    {
     "data": {
      "image/png": "[encoded data removed]",
      "text/plain": [
       "<Figure size 432x288 with 1 Axes>"
      ]
     },
     "metadata": {
      "needs_background": "light"
     },
     "output_type": "display_data"
    },
    {
     "name": "stdout",
     "output_type": "stream",
     "text": [
      "Intake Condition\n"
     ]
    },
    {
     "data": {
      "image/png": "[encoded data removed]",
      "text/plain": [
       "<Figure size 432x288 with 1 Axes>"
      ]
     },
     "metadata": {
      "needs_background": "light"
     },
     "output_type": "display_data"
    },
    {
     "name": "stdout",
     "output_type": "stream",
     "text": [
      "Pet Type\n"
     ]
    },
    {
     "data": {
      "image/png": "[encoded data removed]",
      "text/plain": [
       "<Figure size 432x288 with 1 Axes>"
      ]
     },
     "metadata": {
      "needs_background": "light"
     },
     "output_type": "display_data"
    },
    {
     "name": "stdout",
     "output_type": "stream",
     "text": [
      "Sex upon Intake\n"
     ]
    },
    {
     "data": {
      "image/png": "[encoded data removed]",
      "text/plain": [
       "<Figure size 432x288 with 1 Axes>"
      ]
     },
     "metadata": {
      "needs_background": "light"
     },
     "output_type": "display_data"
    },
    {
     "name": "stdout",
     "output_type": "stream",
     "text": [
      "['Pet ID', 'Name', 'Found Location', 'Breed', 'Color']\n"
     ]
    }
   ],
   "source": [
    "#list out distinct values of categorical values\n",
    "text_features = []\n",
    "for c in cat: \n",
    "    if len(df[c].value_counts()) < 50:\n",
    "        print(c)\n",
    "        df[c].value_counts().plot.bar()\n",
    "        plt.show()\n",
    "    else: \n",
    "        text_features.append(c)\n",
    "print(text_features)"
   ]
  },
  {
   "cell_type": "code",
   "execution_count": 13,
   "id": "c4d499d1-8535-48e4-aed0-c4c3590d6c11",
   "metadata": {},
   "outputs": [
    {
     "name": "stdout",
     "output_type": "stream",
     "text": [
      "Index(['Sex upon Outcome', 'Intake Type', 'Intake Condition', 'Pet Type',\n",
      "       'Sex upon Intake'],\n",
      "      dtype='object')\n"
     ]
    }
   ],
   "source": [
    "cat = cat.drop(text_features)\n",
    "print(cat)"
   ]
  },
  {
   "cell_type": "code",
   "execution_count": 14,
   "id": "ce4e10f9-c3d0-4f92-9126-0b9a8a60b7f9",
   "metadata": {},
   "outputs": [],
   "source": [
    "text_features.remove('Pet ID')"
   ]
  },
  {
   "cell_type": "code",
   "execution_count": 15,
   "id": "ecb24eee-de46-4254-ab25-e6b898c5c749",
   "metadata": {},
   "outputs": [
    {
     "name": "stdout",
     "output_type": "stream",
     "text": [
      "Sex upon Outcome\n",
      "['Neutered Male' 'Intact Male' 'Intact Female' 'Unknown' 'Spayed Female']\n",
      "Intake Type\n",
      "['Owner Surrender' 'Stray' 'Wildlife' 'Public Assist' 'Euthanasia Request'\n",
      " 'Abandoned']\n",
      "Intake Condition\n",
      "['Normal' 'Nursing' 'Sick' 'Injured' 'Feral' 'Other' 'Pregnant' 'Aged'\n",
      " 'Behavior' 'Medical']\n",
      "Pet Type\n",
      "['Cat' 'Dog' 'Other' 'Bird' 'Livestock']\n",
      "Sex upon Intake\n",
      "['Neutered Male' 'Intact Male' 'Intact Female' 'Unknown' 'Spayed Female']\n"
     ]
    }
   ],
   "source": [
    "#check unique values in categorical features\n",
    "for c in cat:\n",
    "    print(c)\n",
    "    print(df[c].unique())"
   ]
  },
  {
   "cell_type": "code",
   "execution_count": 16,
   "id": "eb27efb9-1fcf-4cd0-889f-54688cd864fb",
   "metadata": {},
   "outputs": [
    {
     "name": "stdout",
     "output_type": "stream",
     "text": [
      "Name\n",
      "['Chunk' 'Gizmo' nan ... '*Lingonberry' 'Guawp' '*Squanchy']\n",
      "Found Location\n",
      "['Austin (TX)' '7201 Levander Loop in Austin (TX)'\n",
      " '12034 Research in Austin (TX)' ...\n",
      " '11025 Doyle Overton Road in Travis (TX)'\n",
      " '16010 Voelker Ln in Austin (TX)' '2211 Santa Rita Street in Austin (TX)']\n",
      "Breed\n",
      "['Domestic Shorthair Mix' 'Chihuahua Shorthair Mix' 'Domestic Shorthair'\n",
      " ... 'Angora-Satin' 'Unknown' 'Treeing Cur']\n",
      "Color\n",
      "['Brown Tabby/White' 'White/Brown' 'Orange Tabby' 'Black'\n",
      " 'White/Orange Tabby' 'Brown Tabby' 'Gray' 'Calico' 'White/Tan' 'Brown'\n",
      " 'Black/White' 'Brown/White' 'Black/Brown' 'Chocolate/White' 'White/White'\n",
      " 'Brown Brindle/White' 'Gray/Black' 'Tortie' 'Tan' 'White/Blue Tabby'\n",
      " 'Brown/Brown' 'Black/Gray' 'Blue' 'Cream Tabby' 'White' 'Brown/Black'\n",
      " 'Brown/Gray' 'Blue Tabby/White' 'Red/White' 'Orange Tabby/White'\n",
      " 'Brown Merle/White' 'Tricolor' 'Apricot' 'Black/Tan' 'Tortie Point'\n",
      " 'Tan/Black' 'Torbie/Brown Tabby' 'White/Black' 'Blue Tabby' 'Blue Tick'\n",
      " 'White/Gray' 'Black/Tricolor' 'Chocolate/Tan' 'White/Brown Tabby'\n",
      " 'White/Brown Brindle' 'Lynx Point' 'Buff' 'White/Buff' 'Brown Brindle'\n",
      " 'White/Blue' 'Torbie' 'Cream' 'Blue/Tan' 'Black Brindle/White'\n",
      " 'Black/Yellow Brindle' 'Chocolate/Black' 'Black/Red' 'Fawn/White'\n",
      " 'Blue/White' 'Blue/Brown Brindle' 'Tan/White' 'Cream Tabby/White'\n",
      " 'Tan/Gray' 'Sable' 'Red/Buff' 'Blue Merle' 'Lynx Point/White' 'Yellow'\n",
      " 'Brown/Tan' 'White/Red' 'Brown/Orange' 'Tricolor/White' 'Sable/Black'\n",
      " 'Gray/White' 'Brown Tiger/Brown' 'Brown Tabby/Black' 'Red' 'Torbie/White'\n",
      " 'Yellow Brindle' 'Cream/White' 'Brown Brindle/Black' 'Black/Chocolate'\n",
      " 'Gold/White' 'White/Orange' 'Black Tabby' 'Tricolor/Brown'\n",
      " 'Seal Point/Gray' 'White/Tricolor' 'Silver/Tan' 'Gray Tabby/White'\n",
      " 'Black Brindle' 'Black Tabby/White' 'Yellow/White' 'Cream/Black'\n",
      " 'Gray/Tortie' 'Flame Point' 'Sable/White' 'Seal Point' 'Chocolate Point'\n",
      " 'Red/Tan' 'Gray/Tan' 'Calico Point/Gray' 'Black/Black' 'Red/Cream'\n",
      " 'White/Red Merle' 'Tortie/White' 'Green/Silver' 'Gray Tabby' 'Green/Gray'\n",
      " 'Chocolate' 'Gray/Brown' 'Gray/Blue Merle' 'White/Blue Merle'\n",
      " 'Blue Cream' 'Silver Tabby/White' 'Black/Cream' 'Lilac Point'\n",
      " 'Gray Tabby/Black' 'Brown Merle' 'Gold/Cream' 'Blue Merle/Tricolor'\n",
      " 'Buff/White' 'White/Cream' 'Gold' 'Brown/Tricolor' 'Yellow/Yellow'\n",
      " 'Sable/Brown' 'Black/Black Tabby' 'White/Gray Tabby' 'Calico/White'\n",
      " 'Tricolor/Black' 'Fawn' 'Black/Brown Brindle' 'Blue/Blue'\n",
      " 'White/Chocolate' 'Tan/Fawn' 'Blue Merle/Brown' 'Blue Merle/Tan'\n",
      " 'White/Seal Point' 'Liver/Tan' 'Red/Black' 'Liver/White'\n",
      " 'Chocolate Point/White' 'Gray/Pink' 'Black Smoke'\n",
      " 'Brown Brindle/Red Tick' 'Cream/Brown' 'Black/Blue Tick'\n",
      " 'Red Tick/Blue Tick' 'Orange' 'Torbie/Brown' 'Orange/White' 'Sable/Tan'\n",
      " 'Yellow Brindle/White' 'Gray/Orange' 'Calico Point' 'White/Yellow'\n",
      " 'Silver Tabby' 'Red Tick' 'White/Red Tick' 'Blue Tick/Tan' 'Brown/Cream'\n",
      " 'Cream/Tan' 'Tan/Brown' 'Buff/Brown' 'Tan/Tan' 'Chocolate/Tricolor'\n",
      " 'Blue Merle/White' 'Calico Point/White' 'Brown Brindle/Brown Brindle'\n",
      " 'Blue Point/White' 'Green/Brown' 'Black/Silver' 'White/Calico'\n",
      " 'Cream/Silver' 'White/Brown Merle' 'White/Fawn' 'White/Gray Tiger'\n",
      " 'Tan/Red' 'Brown/Chocolate' 'Lilac Point/White' 'Buff/Black'\n",
      " 'Cream/Brown Merle' 'Fawn/Black' 'White/Black Brindle' 'Silver'\n",
      " 'Lilac Point/Gray' 'Black Smoke/White' 'Red/Brown' 'Red Merle/White'\n",
      " 'Pink' 'Blue Tick/Tricolor' 'Blue Tick/Black' 'Seal Point/White'\n",
      " 'Blue Point' 'Silver/Brown' 'Fawn/Brown' 'Black Brindle/Brown'\n",
      " 'Blue Cream/White' 'White/Blue Cream' 'Gray/Gray' 'Tortie/Tortie' 'Green'\n",
      " 'Chocolate/Brown Tabby' 'Tortie/Blue Cream' 'Brown/Fawn' 'White/Tortie'\n",
      " 'Orange Tabby/Orange Tabby' 'Tortie/Black' 'White/Cream Tabby'\n",
      " 'Tan/Cream' 'Red/Yellow' 'Blue/Tortie' 'Lynx Point/Brown Tabby'\n",
      " 'Black Tabby/Orange' 'Blue/Tricolor' 'Black/Blue' 'White/Agouti'\n",
      " 'Chocolate/Fawn' 'Orange/Orange Tabby' 'Tricolor/Blue Merle'\n",
      " 'Brown/Brown Tabby' 'Black/Orange' 'Agouti' 'Calico/Black'\n",
      " 'Lilac Point/Black' 'Blue Tabby/Black' 'Silver/Black' 'Tan/Blue'\n",
      " 'Black/Yellow' 'Brown/Buff' 'Yellow/Green' 'Flame Point/Cream'\n",
      " 'Agouti/White' 'Brown/Green' 'Yellow/Black' 'Torbie/Blue Tabby'\n",
      " 'White/Black Tabby' 'Blue Merle/Red Merle' 'Gray/Cream'\n",
      " 'Silver/Chocolate' 'Tan/Tricolor' 'Red Merle' 'Tan/Buff'\n",
      " 'Brown Tiger/White' 'Gray Tabby/Gray' 'Tan/Silver' 'Chocolate/Red'\n",
      " 'Black Brindle/Black' 'Tricolor/Blue' 'Red Tick/Brown' 'Gray/Yellow'\n",
      " 'Silver/Orange' 'Black/Pink' 'Tricolor/Tan' 'Calico/Brown'\n",
      " 'Tortie Point/Lynx Point' 'Cream/Blue' 'Green/Red' 'Calico/Tricolor'\n",
      " 'Tortie/Orange' 'Gray/Red' 'Black/Black Smoke' 'Brown/Red' 'Brown/Yellow'\n",
      " 'Fawn/Blue' 'Red/Tricolor' 'Fawn/Cream' 'Silver/Red' 'Brown Tabby/Calico'\n",
      " 'Black/Blue Merle' 'Yellow/Orange' 'Brown Tabby/Brown' 'Blue Tick/Red'\n",
      " 'Seal Point/Cream' 'Cream Tabby/Orange' 'Chocolate/Blue Tick' 'Red/Blue'\n",
      " 'Blue/Black' 'Brown Tiger' 'Brown Merle/Tan' 'Fawn/Tan'\n",
      " 'Brown Tabby/Orange' 'Blue Smoke' 'Red Tick/White' 'Blue/Gray'\n",
      " 'White/Apricot' 'Brown Brindle/Brown' 'Red/Gold' 'Green/Yellow'\n",
      " 'Red/Red Merle' 'Gold/Tan' 'Blue Merle/Blue Merle' 'Red/Silver'\n",
      " 'Brown Tabby/Silver' 'Blue Tick/Red Tick' 'Orange Tabby/Brown'\n",
      " 'Red/Red Tick' 'Gray/Tricolor' 'Black/Buff' 'Black/Green'\n",
      " 'Black/Black Brindle' 'Orange/Black' 'Gold/Brown' 'Red Merle/Black'\n",
      " 'Apricot/White' 'Brown Tabby/Brown Tabby' 'Cream/Seal Point'\n",
      " 'Tan/Red Merle' 'Gray/Green' 'Buff/Cream' 'Blue Tick/Brown'\n",
      " 'Brown Tabby/Tortie' 'Blue Tiger/White' 'Tan/Chocolate Point'\n",
      " 'Black/Fawn' 'Blue/Brown' 'White/Blue Tick' 'Blue Tick/White'\n",
      " 'Blue Tick/Brown Brindle' 'White/Gold' 'Chocolate/Brown'\n",
      " 'Black Smoke/Brown Tabby' 'Tortie Point/White' 'Red/Gray'\n",
      " 'Brown Brindle/Tricolor' 'Orange/Brown' 'Gray/Gold' 'Liver Tick/White'\n",
      " 'Brown/Red Merle' 'White/Liver' 'Gold/Silver' 'Blue Merle/Black'\n",
      " 'Seal Point/Brown' 'Silver Lynx Point' 'Black/Gold' 'Liver' 'Blue Tiger'\n",
      " 'Tan/Yellow' 'Orange/Tan' 'Lynx Point/Tortie Point' 'Brown Tabby/Gray'\n",
      " 'Sable/Cream' 'White/Chocolate Point' 'White/Yellow Brindle'\n",
      " 'Calico/Gray Tabby' 'Chocolate/Cream' 'Buff/Gray' 'Buff/Tan' 'Gold/Buff'\n",
      " 'Brown Brindle/Tan' 'Tricolor/Blue Tick' 'White/Pink'\n",
      " 'Brown/Brown Brindle' 'Orange Tabby/Tortie Point' 'Chocolate Point/Cream'\n",
      " 'Black Brindle/Brown Brindle' 'Yellow/Cream' 'Gold/Black'\n",
      " 'Tan/Yellow Brindle' 'Red Tick/Tricolor' 'Brown Merle/Brown Tabby'\n",
      " 'Flame Point/White' 'Calico/Calico' 'Orange Tabby/Apricot' 'Blue/Calico'\n",
      " 'Brown/Black Smoke' 'Green/Black' 'Calico Point/Lynx Point'\n",
      " 'Calico/Orange' 'Torbie/Gray' 'Tortie/Calico' 'Brown Tabby/Black Tabby'\n",
      " 'Yellow/Tan' 'Tortie/Blue' 'Cream/Red' 'White/Lynx Point'\n",
      " 'Red Tick/Brown Brindle' 'Gold/Gray' 'Silver/White' 'Blue/Cream'\n",
      " 'Blue Tabby/Cream' 'Yellow/Gray' 'Black Smoke/Blue Tick' 'Tricolor/Cream'\n",
      " 'Gray Tabby/Orange' 'Brown Tabby/Blue' 'Blue Tabby/Buff' 'Tricolor/Red'\n",
      " 'Chocolate/Gold' 'Brown/Silver' 'Brown Merle/Brown' 'Cream/Gray'\n",
      " 'Yellow/Red' 'Tricolor/Gray' 'White/Silver Tabby' 'Orange/Gray'\n",
      " 'Cream Tabby/Cream Tabby' 'White/Liver Tick' 'Black Tabby/Black'\n",
      " 'Cream/Tricolor' 'Yellow/Orange Tabby' 'Orange Tabby/Cream'\n",
      " 'Green/Orange' 'Gray/Silver' 'Tricolor/Brown Brindle' 'Red Tick/Tan'\n",
      " 'Black/Tortie' 'White/Lilac Point' 'Chocolate/Chocolate' 'Blue Tabby/Tan'\n",
      " 'Fawn/Chocolate' 'Blue/Green' 'Blue Merle/Gray' 'Black Smoke/Black'\n",
      " 'Tan/Red Tick' 'Orange Tiger' 'Green/Blue' 'Gray/Gray Tabby'\n",
      " 'Blue Merle/Cream' 'Tricolor/Silver' 'Brown/Pink' 'Tricolor/Chocolate'\n",
      " 'Red Merle/Tricolor' 'Liver Tick' 'Blue Cream/Tortie' 'Calico/Blue Cream'\n",
      " 'Lilac Point/Cream' 'Tan/Apricot' 'Calico/Brown Tabby' 'Blue Smoke/Brown'\n",
      " 'Cream/Orange' 'Brown Tabby/Gray Tabby' 'Brown Brindle/Blue Tick'\n",
      " 'White/Silver' 'Agouti/Gray' 'Blue Smoke/White' 'Agouti/Brown Tabby'\n",
      " 'Blue/Silver' 'Red/Red' 'Yellow Brindle/Blue' 'Seal Point/Buff'\n",
      " 'Gray/Blue' 'Tortie/Black Smoke' 'Torbie/Black' 'Red Merle/Brown Merle'\n",
      " 'Green/White' 'Brown Brindle/Blue' 'Black Tiger' 'Black/Brown Tabby'\n",
      " 'Sable/Red' 'Sable/Buff' 'White/Black Smoke' 'Lynx Point/Tan'\n",
      " 'Black/Gray Tabby' 'Black Smoke/Brown' 'Chocolate/Brown Merle'\n",
      " 'Red/Green' 'Tricolor/Calico' 'Chocolate/Yellow'\n",
      " 'Black Brindle/Blue Tick' 'Tan/Brown Brindle' 'Gray/Buff' 'Brown/Blue'\n",
      " 'Black Brindle/Tan' 'Brown/Black Tabby' 'Cream/Red Tick' 'Blue/Yellow'\n",
      " 'Brown Merle/Chocolate' 'Orange Tabby/Orange' 'White/Brown Tiger'\n",
      " 'Gray/Fawn' 'Red Merle/Red Merle' 'Yellow/Brown' 'Red Tick/Black'\n",
      " 'Red Tick/Brown Merle' 'Silver/Blue' 'Ruddy/Cream' 'Orange/Blue'\n",
      " 'Lynx Point/Gray' 'Fawn/Gray' 'Brown Merle/Black' 'Black Tiger/White'\n",
      " 'Blue Merle/Brown Brindle' 'Brown/Red Tick' 'Buff/Red'\n",
      " 'Black Smoke/Chocolate' 'Black Tabby/Gray Tabby' 'Tricolor/Tricolor'\n",
      " 'Chocolate/Red Tick' 'Chocolate/Liver Tick' 'Tortie/Brown'\n",
      " 'Tortie Point/Cream' 'Liver/Liver Tick' 'Brown Brindle/Brown Merle'\n",
      " 'Tan/Brown Merle' 'Blue/Orange' 'Liver/Buff' 'Brown Tabby/Orange Tabby'\n",
      " 'Tricolor/Brown Merle' 'Lynx Point/Cream' 'Torbie/Blue Cream'\n",
      " 'Blue Smoke/Gray' 'White/Black Tiger' 'Lynx Point/Gray Tabby'\n",
      " 'White/Calico Point' 'Brown Tabby/Black Brindle' 'Tricolor/Red Tick'\n",
      " 'Blue/Yellow Brindle' 'Silver/Cream' 'Brown/Black Brindle'\n",
      " 'Brown Brindle/Blue Cream' 'Brown/Apricot' 'Blue Cream/Buff'\n",
      " 'Tortie/Blue Tabby' 'Sable/Red Merle' 'Black/Seal Point' 'Agouti/Cream'\n",
      " 'Blue Tabby/Blue Cream' 'White/Green' 'Blue Cream/Blue Tabby'\n",
      " 'Brown Brindle/Gray' 'Torbie/Silver Tabby' 'Red Merle/Tan' 'Buff/Yellow'\n",
      " 'Black Tabby/Gray' 'Black/Silver Tabby' 'Sable/Gray'\n",
      " 'Chocolate/Brown Brindle' 'Red/Brown Brindle' 'Cream Tiger'\n",
      " 'Orange Tabby/Black' 'Brown Brindle/Liver Tick' 'Blue Tabby/Tortie'\n",
      " 'Gold/Gold' 'White/Flame Point' 'Tortie Point/Seal Point']\n"
     ]
    }
   ],
   "source": [
    "for t in text_features: \n",
    "    print(t)\n",
    "    print(df[t].unique())"
   ]
  },
  {
   "cell_type": "code",
   "execution_count": 17,
   "id": "9bc72f47-bb03-4268-8dd7-7567988e6a6b",
   "metadata": {},
   "outputs": [],
   "source": [
    "#to avoid nan throwing errors when encoding text and categorical features , convert the features to string type\n",
    "df[text_features] = df[text_features].astype(str)"
   ]
  },
  {
   "cell_type": "code",
   "execution_count": 18,
   "id": "e3f108d6-e599-47ab-9482-468f957dc62a",
   "metadata": {},
   "outputs": [],
   "source": [
    "#Prepare text pre-processing functions\n",
    "import re\n",
    "import string \n",
    "from nltk.stem import SnowballStemmer\n",
    "stop_words = ['a','the','this','an','that','is','it','to','and']\n",
    "stemmer = SnowballStemmer('english')\n",
    "\n",
    "def preProcess(text):\n",
    "    text = text.lower().strip()\n",
    "    text = re.compile('<.*?>').sub('',text)\n",
    "    text = re.compile('[%s]' % re.escape(string.punctuation)).sub('',text)\n",
    "    text = re.sub('\\s+',' ', text)\n",
    "    return text \n",
    "\n",
    "def lexicon(text, stop_words, stemmer):\n",
    "    filtered_text = []\n",
    "    words = text.split(' ')\n",
    "    for w in words: \n",
    "        if w not in stop_words:\n",
    "            filtered_text.append(stemmer.stem(w))\n",
    "    text = ' '.join(filtered_text)\n",
    "    return text\n",
    "\n",
    "def cleanText(text, stop_words, stemmer):\n",
    "    return lexicon(preProcess(text),stop_words, stemmer)\n",
    "    "
   ]
  },
  {
   "cell_type": "code",
   "execution_count": 19,
   "id": "2cab1634-f4fb-46b4-b133-d7f52acdaf11",
   "metadata": {},
   "outputs": [
    {
     "name": "stdout",
     "output_type": "stream",
     "text": [
      "Text Cleaning Name\n",
      "Text Cleaning Found Location\n",
      "Text Cleaning Breed\n",
      "Text Cleaning Color\n"
     ]
    }
   ],
   "source": [
    "#Apply text cleaning function on text features\n",
    "for t in text_features: \n",
    "    print('Text Cleaning',t)\n",
    "    df[t] = [cleanText(item, stop_words, stemmer) for item in df[t].values]"
   ]
  },
  {
   "cell_type": "code",
   "execution_count": 20,
   "id": "e80373f8-e96e-4405-982b-a5e6f47cc8c3",
   "metadata": {},
   "outputs": [
    {
     "name": "stdout",
     "output_type": "stream",
     "text": [
      "Name\n",
      "11679\n",
      "Found Location\n",
      "37315\n",
      "Breed\n",
      "2159\n",
      "Color\n",
      "535\n"
     ]
    }
   ],
   "source": [
    "#Check text cleaning results \n",
    "for t in text_features: \n",
    "    print(t)\n",
    "    print(df[t].nunique())"
   ]
  },
  {
   "cell_type": "code",
   "execution_count": 21,
   "id": "dd8c2821-bfba-4ad5-acd1-fd3cd6bbc1e8",
   "metadata": {},
   "outputs": [
    {
     "data": {
      "text/html": [
       "<div>\n",
       "<style scoped>\n",
       "    .dataframe tbody tr th:only-of-type {\n",
       "        vertical-align: middle;\n",
       "    }\n",
       "\n",
       "    .dataframe tbody tr th {\n",
       "        vertical-align: top;\n",
       "    }\n",
       "\n",
       "    .dataframe thead th {\n",
       "        text-align: right;\n",
       "    }\n",
       "</style>\n",
       "<table border=\"1\" class=\"dataframe\">\n",
       "  <thead>\n",
       "    <tr style=\"text-align: right;\">\n",
       "      <th></th>\n",
       "      <th>Pet ID</th>\n",
       "      <th>Outcome Type</th>\n",
       "      <th>Sex upon Outcome</th>\n",
       "      <th>Name</th>\n",
       "      <th>Found Location</th>\n",
       "      <th>Intake Type</th>\n",
       "      <th>Intake Condition</th>\n",
       "      <th>Pet Type</th>\n",
       "      <th>Sex upon Intake</th>\n",
       "      <th>Breed</th>\n",
       "      <th>Color</th>\n",
       "      <th>Age upon Intake Days</th>\n",
       "      <th>Age upon Outcome Days</th>\n",
       "    </tr>\n",
       "  </thead>\n",
       "  <tbody>\n",
       "    <tr>\n",
       "      <th>0</th>\n",
       "      <td>A794011</td>\n",
       "      <td>1.0</td>\n",
       "      <td>Neutered Male</td>\n",
       "      <td>chunk</td>\n",
       "      <td>austin tx</td>\n",
       "      <td>Owner Surrender</td>\n",
       "      <td>Normal</td>\n",
       "      <td>Cat</td>\n",
       "      <td>Neutered Male</td>\n",
       "      <td>domest shorthair mix</td>\n",
       "      <td>brown tabbywhit</td>\n",
       "      <td>730</td>\n",
       "      <td>730</td>\n",
       "    </tr>\n",
       "    <tr>\n",
       "      <th>1</th>\n",
       "      <td>A776359</td>\n",
       "      <td>1.0</td>\n",
       "      <td>Neutered Male</td>\n",
       "      <td>gizmo</td>\n",
       "      <td>7201 levand loop in austin tx</td>\n",
       "      <td>Stray</td>\n",
       "      <td>Normal</td>\n",
       "      <td>Dog</td>\n",
       "      <td>Intact Male</td>\n",
       "      <td>chihuahua shorthair mix</td>\n",
       "      <td>whitebrown</td>\n",
       "      <td>365</td>\n",
       "      <td>365</td>\n",
       "    </tr>\n",
       "    <tr>\n",
       "      <th>2</th>\n",
       "      <td>A674754</td>\n",
       "      <td>0.0</td>\n",
       "      <td>Intact Male</td>\n",
       "      <td>nan</td>\n",
       "      <td>12034 research in austin tx</td>\n",
       "      <td>Stray</td>\n",
       "      <td>Nursing</td>\n",
       "      <td>Cat</td>\n",
       "      <td>Intact Male</td>\n",
       "      <td>domest shorthair mix</td>\n",
       "      <td>orang tabbi</td>\n",
       "      <td>6</td>\n",
       "      <td>6</td>\n",
       "    </tr>\n",
       "    <tr>\n",
       "      <th>3</th>\n",
       "      <td>A689724</td>\n",
       "      <td>1.0</td>\n",
       "      <td>Neutered Male</td>\n",
       "      <td>donatello</td>\n",
       "      <td>2300 waterway bnd in austin tx</td>\n",
       "      <td>Stray</td>\n",
       "      <td>Normal</td>\n",
       "      <td>Cat</td>\n",
       "      <td>Intact Male</td>\n",
       "      <td>domest shorthair mix</td>\n",
       "      <td>black</td>\n",
       "      <td>60</td>\n",
       "      <td>60</td>\n",
       "    </tr>\n",
       "    <tr>\n",
       "      <th>4</th>\n",
       "      <td>A680969</td>\n",
       "      <td>1.0</td>\n",
       "      <td>Neutered Male</td>\n",
       "      <td>zeus</td>\n",
       "      <td>4701 staggerbrush rd in austin tx</td>\n",
       "      <td>Stray</td>\n",
       "      <td>Nursing</td>\n",
       "      <td>Cat</td>\n",
       "      <td>Intact Male</td>\n",
       "      <td>domest shorthair mix</td>\n",
       "      <td>whiteorang tabbi</td>\n",
       "      <td>7</td>\n",
       "      <td>60</td>\n",
       "    </tr>\n",
       "  </tbody>\n",
       "</table>\n",
       "</div>"
      ],
      "text/plain": [
       "    Pet ID  Outcome Type Sex upon Outcome       Name  \\\n",
       "0  A794011           1.0    Neutered Male      chunk   \n",
       "1  A776359           1.0    Neutered Male      gizmo   \n",
       "2  A674754           0.0      Intact Male        nan   \n",
       "3  A689724           1.0    Neutered Male  donatello   \n",
       "4  A680969           1.0    Neutered Male       zeus   \n",
       "\n",
       "                      Found Location      Intake Type Intake Condition  \\\n",
       "0                          austin tx  Owner Surrender           Normal   \n",
       "1      7201 levand loop in austin tx            Stray           Normal   \n",
       "2        12034 research in austin tx            Stray          Nursing   \n",
       "3     2300 waterway bnd in austin tx            Stray           Normal   \n",
       "4  4701 staggerbrush rd in austin tx            Stray          Nursing   \n",
       "\n",
       "  Pet Type Sex upon Intake                    Breed             Color  \\\n",
       "0      Cat   Neutered Male     domest shorthair mix   brown tabbywhit   \n",
       "1      Dog     Intact Male  chihuahua shorthair mix        whitebrown   \n",
       "2      Cat     Intact Male     domest shorthair mix       orang tabbi   \n",
       "3      Cat     Intact Male     domest shorthair mix             black   \n",
       "4      Cat     Intact Male     domest shorthair mix  whiteorang tabbi   \n",
       "\n",
       "   Age upon Intake Days  Age upon Outcome Days  \n",
       "0                   730                    730  \n",
       "1                   365                    365  \n",
       "2                     6                      6  \n",
       "3                    60                     60  \n",
       "4                     7                     60  "
      ]
     },
     "execution_count": 21,
     "metadata": {},
     "output_type": "execute_result"
    }
   ],
   "source": [
    "df.head()"
   ]
  },
  {
   "cell_type": "markdown",
   "id": "83ed1709-f4bf-49f4-bfa4-5aa654082f9a",
   "metadata": {},
   "source": [
    "## 2. Train the Decision Tree model\n",
    "* Split data into train and test dataset \n",
    "* Check for target imbalance in test set and apply target balancing \n",
    "* Use ColumnTransformer with Pipeline to process numerical, categorical, and text features  \n",
    "* Combine data processing pipeline with decision tree classifier/estimator\n",
    "* Train the model and evaluate performance of model on train and test dataset\n",
    "* Perform hyperparameter tuning using gridsearch"
   ]
  },
  {
   "cell_type": "code",
   "execution_count": 22,
   "id": "5deefdea-da29-4652-9e5f-83059dfcbefa",
   "metadata": {},
   "outputs": [],
   "source": [
    "#Divide dataset into training and testing \n",
    "from sklearn.model_selection import train_test_split\n",
    "train_data, test_data = train_test_split(df, test_size = 0.1, shuffle = True, random_state = 23)"
   ]
  },
  {
   "cell_type": "code",
   "execution_count": 23,
   "id": "f620252a-4131-40b6-920c-d643269cb4af",
   "metadata": {},
   "outputs": [
    {
     "name": "stdout",
     "output_type": "stream",
     "text": [
      "trainining data set's size (74293, 13)\n",
      "Class 1 samples in the train dataset 40667\n",
      "Class 0 samples in the train dataset 33626\n"
     ]
    }
   ],
   "source": [
    "#Target balancing\n",
    "print(\"trainining data set's size\", train_data.shape)\n",
    "print(\"Class 1 samples in the train dataset\", sum(train_data[target] ==1))\n",
    "print(\"Class 0 samples in the train dataset\", sum(train_data[target]==0))"
   ]
  },
  {
   "cell_type": "code",
   "execution_count": 24,
   "id": "445556da-ada9-46ea-bbc9-20645e5e3238",
   "metadata": {},
   "outputs": [],
   "source": [
    "#There are more class 1 samples than class 0 samples, use upsampling \n",
    "from sklearn.utils import shuffle\n",
    "class0 = train_data[train_data[target] ==0]\n",
    "class1 = train_data[train_data[target]==1]\n",
    "upsampled_class0 = class0.sample(n = len(class1), replace = True, random_state = 42)\n",
    "train_data = pd.concat([upsampled_class0, class1])\n",
    "train_data = shuffle(train_data)"
   ]
  },
  {
   "cell_type": "code",
   "execution_count": 25,
   "id": "0019c2c5-06da-468b-b18c-7ef6393adb94",
   "metadata": {},
   "outputs": [
    {
     "name": "stdout",
     "output_type": "stream",
     "text": [
      "trainining data set's size (81334, 13)\n",
      "Class 1 samples in the train dataset 40667\n",
      "Class 0 samples in the train dataset 40667\n"
     ]
    }
   ],
   "source": [
    "print(\"trainining data set's size\", train_data.shape)\n",
    "print(\"Class 1 samples in the train dataset\", sum(train_data[target] ==1))\n",
    "print(\"Class 0 samples in the train dataset\", sum(train_data[target]==0))"
   ]
  },
  {
   "cell_type": "code",
   "execution_count": 26,
   "id": "81ed60b0-34e8-4640-b2a6-dac500a4b110",
   "metadata": {},
   "outputs": [],
   "source": [
    "#Numerical pipeline. Impute and scale \n",
    "from sklearn.impute import SimpleImputer\n",
    "from sklearn.preprocessing import MinMaxScaler\n",
    "from sklearn.pipeline import Pipeline\n",
    "\n",
    "numerical_pipeline = Pipeline([\n",
    "    ('impute', SimpleImputer(strategy = 'mean')),\n",
    "    ('scal', MinMaxScaler())\n",
    "        ])"
   ]
  },
  {
   "cell_type": "code",
   "execution_count": 27,
   "id": "9a24ce38-1350-41ab-af69-092ed9623e6f",
   "metadata": {},
   "outputs": [],
   "source": [
    "#Categorical pipeline. Impute and One hote encoding\n",
    "from sklearn.preprocessing import OneHotEncoder\n",
    "\n",
    "categorical_pipeline = Pipeline([\n",
    "        ('impute', SimpleImputer(strategy = 'constant', fill_value='missing')),\n",
    "        ('scale', OneHotEncoder(handle_unknown = 'ignore'))\n",
    "        ])"
   ]
  },
  {
   "cell_type": "code",
   "execution_count": 28,
   "id": "c8df2e79-c46d-4099-9bee-0ba663cde622",
   "metadata": {},
   "outputs": [],
   "source": [
    "#Text pipeline. CountVectorizer using Bag of Words. Use two separate pipelines to handle different vocabulary size \n",
    "from sklearn.feature_extraction.text import CountVectorizer\n",
    "\n",
    "text_pipeline_1 = Pipeline([\n",
    "    ('vectorized', CountVectorizer(binary= True, max_features=50))\n",
    "        ])\n",
    "\n",
    "text_pipeline_2 = Pipeline([\n",
    "    ('vectorized', CountVectorizer(binary = True, max_features = 150))\n",
    "    ])"
   ]
  },
  {
   "cell_type": "code",
   "execution_count": 29,
   "id": "d80619a2-ab13-4e84-9b35-ae8ebb9ec8ed",
   "metadata": {},
   "outputs": [
    {
     "data": {
      "text/plain": [
       "['Name', 'Found Location', 'Breed', 'Color']"
      ]
     },
     "execution_count": 29,
     "metadata": {},
     "output_type": "execute_result"
    }
   ],
   "source": [
    "text_features"
   ]
  },
  {
   "cell_type": "code",
   "execution_count": 30,
   "id": "c0bba696-7a63-4e12-8bf7-7dc33ef33543",
   "metadata": {},
   "outputs": [],
   "source": [
    "#Combine all pipelines using ColumnTransformer. Note features to be processed has to be list object\n",
    "from sklearn.compose import ColumnTransformer\n",
    "data_processer = ColumnTransformer([\n",
    "        ('num_pipe', numerical_pipeline, num.tolist()),\n",
    "        ('cat_pipe', categorical_pipeline, cat.tolist()),\n",
    "        ('text_pipe1', text_pipeline_1, text_features[3]),\n",
    "        ('text_pipe2', text_pipeline_2, text_features[2])\n",
    "        ])"
   ]
  },
  {
   "cell_type": "code",
   "execution_count": 31,
   "id": "6dd0dcd5-afc4-4d74-8157-0a5e70e10e10",
   "metadata": {},
   "outputs": [
    {
     "data": {
      "text/html": [
       "<style>#sk-container-id-1 {color: black;background-color: white;}#sk-container-id-1 pre{padding: 0;}#sk-container-id-1 div.sk-toggleable {background-color: white;}#sk-container-id-1 label.sk-toggleable__label {cursor: pointer;display: block;width: 100%;margin-bottom: 0;padding: 0.3em;box-sizing: border-box;text-align: center;}#sk-container-id-1 label.sk-toggleable__label-arrow:before {content: \"▸\";float: left;margin-right: 0.25em;color: #696969;}#sk-container-id-1 label.sk-toggleable__label-arrow:hover:before {color: black;}#sk-container-id-1 div.sk-estimator:hover label.sk-toggleable__label-arrow:before {color: black;}#sk-container-id-1 div.sk-toggleable__content {max-height: 0;max-width: 0;overflow: hidden;text-align: left;background-color: #f0f8ff;}#sk-container-id-1 div.sk-toggleable__content pre {margin: 0.2em;color: black;border-radius: 0.25em;background-color: #f0f8ff;}#sk-container-id-1 input.sk-toggleable__control:checked~div.sk-toggleable__content {max-height: 200px;max-width: 100%;overflow: auto;}#sk-container-id-1 input.sk-toggleable__control:checked~label.sk-toggleable__label-arrow:before {content: \"▾\";}#sk-container-id-1 div.sk-estimator input.sk-toggleable__control:checked~label.sk-toggleable__label {background-color: #d4ebff;}#sk-container-id-1 div.sk-label input.sk-toggleable__control:checked~label.sk-toggleable__label {background-color: #d4ebff;}#sk-container-id-1 input.sk-hidden--visually {border: 0;clip: rect(1px 1px 1px 1px);clip: rect(1px, 1px, 1px, 1px);height: 1px;margin: -1px;overflow: hidden;padding: 0;position: absolute;width: 1px;}#sk-container-id-1 div.sk-estimator {font-family: monospace;background-color: #f0f8ff;border: 1px dotted black;border-radius: 0.25em;box-sizing: border-box;margin-bottom: 0.5em;}#sk-container-id-1 div.sk-estimator:hover {background-color: #d4ebff;}#sk-container-id-1 div.sk-parallel-item::after {content: \"\";width: 100%;border-bottom: 1px solid gray;flex-grow: 1;}#sk-container-id-1 div.sk-label:hover label.sk-toggleable__label {background-color: #d4ebff;}#sk-container-id-1 div.sk-serial::before {content: \"\";position: absolute;border-left: 1px solid gray;box-sizing: border-box;top: 0;bottom: 0;left: 50%;z-index: 0;}#sk-container-id-1 div.sk-serial {display: flex;flex-direction: column;align-items: center;background-color: white;padding-right: 0.2em;padding-left: 0.2em;position: relative;}#sk-container-id-1 div.sk-item {position: relative;z-index: 1;}#sk-container-id-1 div.sk-parallel {display: flex;align-items: stretch;justify-content: center;background-color: white;position: relative;}#sk-container-id-1 div.sk-item::before, #sk-container-id-1 div.sk-parallel-item::before {content: \"\";position: absolute;border-left: 1px solid gray;box-sizing: border-box;top: 0;bottom: 0;left: 50%;z-index: -1;}#sk-container-id-1 div.sk-parallel-item {display: flex;flex-direction: column;z-index: 1;position: relative;background-color: white;}#sk-container-id-1 div.sk-parallel-item:first-child::after {align-self: flex-end;width: 50%;}#sk-container-id-1 div.sk-parallel-item:last-child::after {align-self: flex-start;width: 50%;}#sk-container-id-1 div.sk-parallel-item:only-child::after {width: 0;}#sk-container-id-1 div.sk-dashed-wrapped {border: 1px dashed gray;margin: 0 0.4em 0.5em 0.4em;box-sizing: border-box;padding-bottom: 0.4em;background-color: white;}#sk-container-id-1 div.sk-label label {font-family: monospace;font-weight: bold;display: inline-block;line-height: 1.2em;}#sk-container-id-1 div.sk-label-container {text-align: center;}#sk-container-id-1 div.sk-container {/* jupyter's `normalize.less` sets `[hidden] { display: none; }` but bootstrap.min.css set `[hidden] { display: none !important; }` so we also need the `!important` here to be able to override the default hidden behavior on the sphinx rendered scikit-learn.org. See: https://github.com/scikit-learn/scikit-learn/issues/21755 */display: inline-block !important;position: relative;}#sk-container-id-1 div.sk-text-repr-fallback {display: none;}</style><div id=\"sk-container-id-1\" class=\"sk-top-container\"><div class=\"sk-text-repr-fallback\"><pre>Pipeline(steps=[(&#x27;data_preprocess&#x27;,\n",
       "                 ColumnTransformer(transformers=[(&#x27;num_pipe&#x27;,\n",
       "                                                  Pipeline(steps=[(&#x27;impute&#x27;,\n",
       "                                                                   SimpleImputer()),\n",
       "                                                                  (&#x27;scal&#x27;,\n",
       "                                                                   MinMaxScaler())]),\n",
       "                                                  [&#x27;Age upon Intake Days&#x27;,\n",
       "                                                   &#x27;Age upon Outcome Days&#x27;]),\n",
       "                                                 (&#x27;cat_pipe&#x27;,\n",
       "                                                  Pipeline(steps=[(&#x27;impute&#x27;,\n",
       "                                                                   SimpleImputer(fill_value=&#x27;missing&#x27;,\n",
       "                                                                                 strategy=&#x27;constant&#x27;)),\n",
       "                                                                  (&#x27;scale&#x27;,\n",
       "                                                                   OneHotEncoder(handle_unknown=&#x27;ignore&#x27;))]),\n",
       "                                                  [&#x27;Sex upon Outcome&#x27;,\n",
       "                                                   &#x27;Intake Type&#x27;,\n",
       "                                                   &#x27;Intake Condition&#x27;,\n",
       "                                                   &#x27;Pet Type&#x27;,\n",
       "                                                   &#x27;Sex upon Intake&#x27;]),\n",
       "                                                 (&#x27;text_pipe1&#x27;,\n",
       "                                                  Pipeline(steps=[(&#x27;vectorized&#x27;,\n",
       "                                                                   CountVectorizer(binary=True,\n",
       "                                                                                   max_features=50))]),\n",
       "                                                  &#x27;Color&#x27;),\n",
       "                                                 (&#x27;text_pipe2&#x27;,\n",
       "                                                  Pipeline(steps=[(&#x27;vectorized&#x27;,\n",
       "                                                                   CountVectorizer(binary=True,\n",
       "                                                                                   max_features=150))]),\n",
       "                                                  &#x27;Breed&#x27;)])),\n",
       "                (&#x27;decisiontree&#x27;, DecisionTreeClassifier())])</pre><b>In a Jupyter environment, please rerun this cell to show the HTML representation or trust the notebook. <br />On GitHub, the HTML representation is unable to render, please try loading this page with nbviewer.org.</b></div><div class=\"sk-container\" hidden><div class=\"sk-item sk-dashed-wrapped\"><div class=\"sk-label-container\"><div class=\"sk-label sk-toggleable\"><input class=\"sk-toggleable__control sk-hidden--visually\" id=\"sk-estimator-id-1\" type=\"checkbox\" ><label for=\"sk-estimator-id-1\" class=\"sk-toggleable__label sk-toggleable__label-arrow\">Pipeline</label><div class=\"sk-toggleable__content\"><pre>Pipeline(steps=[(&#x27;data_preprocess&#x27;,\n",
       "                 ColumnTransformer(transformers=[(&#x27;num_pipe&#x27;,\n",
       "                                                  Pipeline(steps=[(&#x27;impute&#x27;,\n",
       "                                                                   SimpleImputer()),\n",
       "                                                                  (&#x27;scal&#x27;,\n",
       "                                                                   MinMaxScaler())]),\n",
       "                                                  [&#x27;Age upon Intake Days&#x27;,\n",
       "                                                   &#x27;Age upon Outcome Days&#x27;]),\n",
       "                                                 (&#x27;cat_pipe&#x27;,\n",
       "                                                  Pipeline(steps=[(&#x27;impute&#x27;,\n",
       "                                                                   SimpleImputer(fill_value=&#x27;missing&#x27;,\n",
       "                                                                                 strategy=&#x27;constant&#x27;)),\n",
       "                                                                  (&#x27;scale&#x27;,\n",
       "                                                                   OneHotEncoder(handle_unknown=&#x27;ignore&#x27;))]),\n",
       "                                                  [&#x27;Sex upon Outcome&#x27;,\n",
       "                                                   &#x27;Intake Type&#x27;,\n",
       "                                                   &#x27;Intake Condition&#x27;,\n",
       "                                                   &#x27;Pet Type&#x27;,\n",
       "                                                   &#x27;Sex upon Intake&#x27;]),\n",
       "                                                 (&#x27;text_pipe1&#x27;,\n",
       "                                                  Pipeline(steps=[(&#x27;vectorized&#x27;,\n",
       "                                                                   CountVectorizer(binary=True,\n",
       "                                                                                   max_features=50))]),\n",
       "                                                  &#x27;Color&#x27;),\n",
       "                                                 (&#x27;text_pipe2&#x27;,\n",
       "                                                  Pipeline(steps=[(&#x27;vectorized&#x27;,\n",
       "                                                                   CountVectorizer(binary=True,\n",
       "                                                                                   max_features=150))]),\n",
       "                                                  &#x27;Breed&#x27;)])),\n",
       "                (&#x27;decisiontree&#x27;, DecisionTreeClassifier())])</pre></div></div></div><div class=\"sk-serial\"><div class=\"sk-item sk-dashed-wrapped\"><div class=\"sk-label-container\"><div class=\"sk-label sk-toggleable\"><input class=\"sk-toggleable__control sk-hidden--visually\" id=\"sk-estimator-id-2\" type=\"checkbox\" ><label for=\"sk-estimator-id-2\" class=\"sk-toggleable__label sk-toggleable__label-arrow\">data_preprocess: ColumnTransformer</label><div class=\"sk-toggleable__content\"><pre>ColumnTransformer(transformers=[(&#x27;num_pipe&#x27;,\n",
       "                                 Pipeline(steps=[(&#x27;impute&#x27;, SimpleImputer()),\n",
       "                                                 (&#x27;scal&#x27;, MinMaxScaler())]),\n",
       "                                 [&#x27;Age upon Intake Days&#x27;,\n",
       "                                  &#x27;Age upon Outcome Days&#x27;]),\n",
       "                                (&#x27;cat_pipe&#x27;,\n",
       "                                 Pipeline(steps=[(&#x27;impute&#x27;,\n",
       "                                                  SimpleImputer(fill_value=&#x27;missing&#x27;,\n",
       "                                                                strategy=&#x27;constant&#x27;)),\n",
       "                                                 (&#x27;scale&#x27;,\n",
       "                                                  OneHotEncoder(handle_unknown=&#x27;ignore&#x27;))]),\n",
       "                                 [&#x27;Sex upon Outcome&#x27;, &#x27;Intake Type&#x27;,\n",
       "                                  &#x27;Intake Condition&#x27;, &#x27;Pet Type&#x27;,\n",
       "                                  &#x27;Sex upon Intake&#x27;]),\n",
       "                                (&#x27;text_pipe1&#x27;,\n",
       "                                 Pipeline(steps=[(&#x27;vectorized&#x27;,\n",
       "                                                  CountVectorizer(binary=True,\n",
       "                                                                  max_features=50))]),\n",
       "                                 &#x27;Color&#x27;),\n",
       "                                (&#x27;text_pipe2&#x27;,\n",
       "                                 Pipeline(steps=[(&#x27;vectorized&#x27;,\n",
       "                                                  CountVectorizer(binary=True,\n",
       "                                                                  max_features=150))]),\n",
       "                                 &#x27;Breed&#x27;)])</pre></div></div></div><div class=\"sk-parallel\"><div class=\"sk-parallel-item\"><div class=\"sk-item\"><div class=\"sk-label-container\"><div class=\"sk-label sk-toggleable\"><input class=\"sk-toggleable__control sk-hidden--visually\" id=\"sk-estimator-id-3\" type=\"checkbox\" ><label for=\"sk-estimator-id-3\" class=\"sk-toggleable__label sk-toggleable__label-arrow\">num_pipe</label><div class=\"sk-toggleable__content\"><pre>[&#x27;Age upon Intake Days&#x27;, &#x27;Age upon Outcome Days&#x27;]</pre></div></div></div><div class=\"sk-serial\"><div class=\"sk-item\"><div class=\"sk-serial\"><div class=\"sk-item\"><div class=\"sk-estimator sk-toggleable\"><input class=\"sk-toggleable__control sk-hidden--visually\" id=\"sk-estimator-id-4\" type=\"checkbox\" ><label for=\"sk-estimator-id-4\" class=\"sk-toggleable__label sk-toggleable__label-arrow\">SimpleImputer</label><div class=\"sk-toggleable__content\"><pre>SimpleImputer()</pre></div></div></div><div class=\"sk-item\"><div class=\"sk-estimator sk-toggleable\"><input class=\"sk-toggleable__control sk-hidden--visually\" id=\"sk-estimator-id-5\" type=\"checkbox\" ><label for=\"sk-estimator-id-5\" class=\"sk-toggleable__label sk-toggleable__label-arrow\">MinMaxScaler</label><div class=\"sk-toggleable__content\"><pre>MinMaxScaler()</pre></div></div></div></div></div></div></div></div><div class=\"sk-parallel-item\"><div class=\"sk-item\"><div class=\"sk-label-container\"><div class=\"sk-label sk-toggleable\"><input class=\"sk-toggleable__control sk-hidden--visually\" id=\"sk-estimator-id-6\" type=\"checkbox\" ><label for=\"sk-estimator-id-6\" class=\"sk-toggleable__label sk-toggleable__label-arrow\">cat_pipe</label><div class=\"sk-toggleable__content\"><pre>[&#x27;Sex upon Outcome&#x27;, &#x27;Intake Type&#x27;, &#x27;Intake Condition&#x27;, &#x27;Pet Type&#x27;, &#x27;Sex upon Intake&#x27;]</pre></div></div></div><div class=\"sk-serial\"><div class=\"sk-item\"><div class=\"sk-serial\"><div class=\"sk-item\"><div class=\"sk-estimator sk-toggleable\"><input class=\"sk-toggleable__control sk-hidden--visually\" id=\"sk-estimator-id-7\" type=\"checkbox\" ><label for=\"sk-estimator-id-7\" class=\"sk-toggleable__label sk-toggleable__label-arrow\">SimpleImputer</label><div class=\"sk-toggleable__content\"><pre>SimpleImputer(fill_value=&#x27;missing&#x27;, strategy=&#x27;constant&#x27;)</pre></div></div></div><div class=\"sk-item\"><div class=\"sk-estimator sk-toggleable\"><input class=\"sk-toggleable__control sk-hidden--visually\" id=\"sk-estimator-id-8\" type=\"checkbox\" ><label for=\"sk-estimator-id-8\" class=\"sk-toggleable__label sk-toggleable__label-arrow\">OneHotEncoder</label><div class=\"sk-toggleable__content\"><pre>OneHotEncoder(handle_unknown=&#x27;ignore&#x27;)</pre></div></div></div></div></div></div></div></div><div class=\"sk-parallel-item\"><div class=\"sk-item\"><div class=\"sk-label-container\"><div class=\"sk-label sk-toggleable\"><input class=\"sk-toggleable__control sk-hidden--visually\" id=\"sk-estimator-id-9\" type=\"checkbox\" ><label for=\"sk-estimator-id-9\" class=\"sk-toggleable__label sk-toggleable__label-arrow\">text_pipe1</label><div class=\"sk-toggleable__content\"><pre>Color</pre></div></div></div><div class=\"sk-serial\"><div class=\"sk-item\"><div class=\"sk-serial\"><div class=\"sk-item\"><div class=\"sk-estimator sk-toggleable\"><input class=\"sk-toggleable__control sk-hidden--visually\" id=\"sk-estimator-id-10\" type=\"checkbox\" ><label for=\"sk-estimator-id-10\" class=\"sk-toggleable__label sk-toggleable__label-arrow\">CountVectorizer</label><div class=\"sk-toggleable__content\"><pre>CountVectorizer(binary=True, max_features=50)</pre></div></div></div></div></div></div></div></div><div class=\"sk-parallel-item\"><div class=\"sk-item\"><div class=\"sk-label-container\"><div class=\"sk-label sk-toggleable\"><input class=\"sk-toggleable__control sk-hidden--visually\" id=\"sk-estimator-id-11\" type=\"checkbox\" ><label for=\"sk-estimator-id-11\" class=\"sk-toggleable__label sk-toggleable__label-arrow\">text_pipe2</label><div class=\"sk-toggleable__content\"><pre>Breed</pre></div></div></div><div class=\"sk-serial\"><div class=\"sk-item\"><div class=\"sk-serial\"><div class=\"sk-item\"><div class=\"sk-estimator sk-toggleable\"><input class=\"sk-toggleable__control sk-hidden--visually\" id=\"sk-estimator-id-12\" type=\"checkbox\" ><label for=\"sk-estimator-id-12\" class=\"sk-toggleable__label sk-toggleable__label-arrow\">CountVectorizer</label><div class=\"sk-toggleable__content\"><pre>CountVectorizer(binary=True, max_features=150)</pre></div></div></div></div></div></div></div></div></div></div><div class=\"sk-item\"><div class=\"sk-estimator sk-toggleable\"><input class=\"sk-toggleable__control sk-hidden--visually\" id=\"sk-estimator-id-13\" type=\"checkbox\" ><label for=\"sk-estimator-id-13\" class=\"sk-toggleable__label sk-toggleable__label-arrow\">DecisionTreeClassifier</label><div class=\"sk-toggleable__content\"><pre>DecisionTreeClassifier()</pre></div></div></div></div></div></div></div>"
      ],
      "text/plain": [
       "Pipeline(steps=[('data_preprocess',\n",
       "                 ColumnTransformer(transformers=[('num_pipe',\n",
       "                                                  Pipeline(steps=[('impute',\n",
       "                                                                   SimpleImputer()),\n",
       "                                                                  ('scal',\n",
       "                                                                   MinMaxScaler())]),\n",
       "                                                  ['Age upon Intake Days',\n",
       "                                                   'Age upon Outcome Days']),\n",
       "                                                 ('cat_pipe',\n",
       "                                                  Pipeline(steps=[('impute',\n",
       "                                                                   SimpleImputer(fill_value='missing',\n",
       "                                                                                 strategy='constant')),\n",
       "                                                                  ('scale',\n",
       "                                                                   OneHotEncoder(handle_unknown='ignore'))]),\n",
       "                                                  ['Sex upon Outcome',\n",
       "                                                   'Intake Type',\n",
       "                                                   'Intake Condition',\n",
       "                                                   'Pet Type',\n",
       "                                                   'Sex upon Intake']),\n",
       "                                                 ('text_pipe1',\n",
       "                                                  Pipeline(steps=[('vectorized',\n",
       "                                                                   CountVectorizer(binary=True,\n",
       "                                                                                   max_features=50))]),\n",
       "                                                  'Color'),\n",
       "                                                 ('text_pipe2',\n",
       "                                                  Pipeline(steps=[('vectorized',\n",
       "                                                                   CountVectorizer(binary=True,\n",
       "                                                                                   max_features=150))]),\n",
       "                                                  'Breed')])),\n",
       "                ('decisiontree', DecisionTreeClassifier())])"
      ]
     },
     "execution_count": 31,
     "metadata": {},
     "output_type": "execute_result"
    }
   ],
   "source": [
    "#combine data preprocessing with decision tree classifier in a pipeline\n",
    "from sklearn.tree import DecisionTreeClassifier\n",
    "\n",
    "pipeline = Pipeline([\n",
    "    ('data_preprocess', data_processer),\n",
    "    ('decisiontree', DecisionTreeClassifier())\n",
    "     ])\n",
    "\n",
    "from sklearn import set_config\n",
    "set_config(display = 'diagram')\n",
    "pipeline"
   ]
  },
  {
   "cell_type": "code",
   "execution_count": 32,
   "id": "33794da7-5486-494d-85e8-e40b0fe954ce",
   "metadata": {},
   "outputs": [
    {
     "name": "stdout",
     "output_type": "stream",
     "text": [
      "['Age upon Intake Days', 'Age upon Outcome Days', 'Sex upon Outcome', 'Intake Type', 'Intake Condition', 'Pet Type', 'Sex upon Intake', 'Breed', 'Color']\n"
     ]
    }
   ],
   "source": [
    "model_features = num.tolist()+cat.tolist()+text_features[2:]\n",
    "print(model_features)"
   ]
  },
  {
   "cell_type": "code",
   "execution_count": 33,
   "id": "59285db3-e792-483e-8faf-20b6e44142d1",
   "metadata": {},
   "outputs": [
    {
     "data": {
      "text/html": [
       "<style>#sk-container-id-2 {color: black;background-color: white;}#sk-container-id-2 pre{padding: 0;}#sk-container-id-2 div.sk-toggleable {background-color: white;}#sk-container-id-2 label.sk-toggleable__label {cursor: pointer;display: block;width: 100%;margin-bottom: 0;padding: 0.3em;box-sizing: border-box;text-align: center;}#sk-container-id-2 label.sk-toggleable__label-arrow:before {content: \"▸\";float: left;margin-right: 0.25em;color: #696969;}#sk-container-id-2 label.sk-toggleable__label-arrow:hover:before {color: black;}#sk-container-id-2 div.sk-estimator:hover label.sk-toggleable__label-arrow:before {color: black;}#sk-container-id-2 div.sk-toggleable__content {max-height: 0;max-width: 0;overflow: hidden;text-align: left;background-color: #f0f8ff;}#sk-container-id-2 div.sk-toggleable__content pre {margin: 0.2em;color: black;border-radius: 0.25em;background-color: #f0f8ff;}#sk-container-id-2 input.sk-toggleable__control:checked~div.sk-toggleable__content {max-height: 200px;max-width: 100%;overflow: auto;}#sk-container-id-2 input.sk-toggleable__control:checked~label.sk-toggleable__label-arrow:before {content: \"▾\";}#sk-container-id-2 div.sk-estimator input.sk-toggleable__control:checked~label.sk-toggleable__label {background-color: #d4ebff;}#sk-container-id-2 div.sk-label input.sk-toggleable__control:checked~label.sk-toggleable__label {background-color: #d4ebff;}#sk-container-id-2 input.sk-hidden--visually {border: 0;clip: rect(1px 1px 1px 1px);clip: rect(1px, 1px, 1px, 1px);height: 1px;margin: -1px;overflow: hidden;padding: 0;position: absolute;width: 1px;}#sk-container-id-2 div.sk-estimator {font-family: monospace;background-color: #f0f8ff;border: 1px dotted black;border-radius: 0.25em;box-sizing: border-box;margin-bottom: 0.5em;}#sk-container-id-2 div.sk-estimator:hover {background-color: #d4ebff;}#sk-container-id-2 div.sk-parallel-item::after {content: \"\";width: 100%;border-bottom: 1px solid gray;flex-grow: 1;}#sk-container-id-2 div.sk-label:hover label.sk-toggleable__label {background-color: #d4ebff;}#sk-container-id-2 div.sk-serial::before {content: \"\";position: absolute;border-left: 1px solid gray;box-sizing: border-box;top: 0;bottom: 0;left: 50%;z-index: 0;}#sk-container-id-2 div.sk-serial {display: flex;flex-direction: column;align-items: center;background-color: white;padding-right: 0.2em;padding-left: 0.2em;position: relative;}#sk-container-id-2 div.sk-item {position: relative;z-index: 1;}#sk-container-id-2 div.sk-parallel {display: flex;align-items: stretch;justify-content: center;background-color: white;position: relative;}#sk-container-id-2 div.sk-item::before, #sk-container-id-2 div.sk-parallel-item::before {content: \"\";position: absolute;border-left: 1px solid gray;box-sizing: border-box;top: 0;bottom: 0;left: 50%;z-index: -1;}#sk-container-id-2 div.sk-parallel-item {display: flex;flex-direction: column;z-index: 1;position: relative;background-color: white;}#sk-container-id-2 div.sk-parallel-item:first-child::after {align-self: flex-end;width: 50%;}#sk-container-id-2 div.sk-parallel-item:last-child::after {align-self: flex-start;width: 50%;}#sk-container-id-2 div.sk-parallel-item:only-child::after {width: 0;}#sk-container-id-2 div.sk-dashed-wrapped {border: 1px dashed gray;margin: 0 0.4em 0.5em 0.4em;box-sizing: border-box;padding-bottom: 0.4em;background-color: white;}#sk-container-id-2 div.sk-label label {font-family: monospace;font-weight: bold;display: inline-block;line-height: 1.2em;}#sk-container-id-2 div.sk-label-container {text-align: center;}#sk-container-id-2 div.sk-container {/* jupyter's `normalize.less` sets `[hidden] { display: none; }` but bootstrap.min.css set `[hidden] { display: none !important; }` so we also need the `!important` here to be able to override the default hidden behavior on the sphinx rendered scikit-learn.org. See: https://github.com/scikit-learn/scikit-learn/issues/21755 */display: inline-block !important;position: relative;}#sk-container-id-2 div.sk-text-repr-fallback {display: none;}</style><div id=\"sk-container-id-2\" class=\"sk-top-container\"><div class=\"sk-text-repr-fallback\"><pre>Pipeline(steps=[(&#x27;data_preprocess&#x27;,\n",
       "                 ColumnTransformer(transformers=[(&#x27;num_pipe&#x27;,\n",
       "                                                  Pipeline(steps=[(&#x27;impute&#x27;,\n",
       "                                                                   SimpleImputer()),\n",
       "                                                                  (&#x27;scal&#x27;,\n",
       "                                                                   MinMaxScaler())]),\n",
       "                                                  [&#x27;Age upon Intake Days&#x27;,\n",
       "                                                   &#x27;Age upon Outcome Days&#x27;]),\n",
       "                                                 (&#x27;cat_pipe&#x27;,\n",
       "                                                  Pipeline(steps=[(&#x27;impute&#x27;,\n",
       "                                                                   SimpleImputer(fill_value=&#x27;missing&#x27;,\n",
       "                                                                                 strategy=&#x27;constant&#x27;)),\n",
       "                                                                  (&#x27;scale&#x27;,\n",
       "                                                                   OneHotEncoder(handle_unknown=&#x27;ignore&#x27;))]),\n",
       "                                                  [&#x27;Sex upon Outcome&#x27;,\n",
       "                                                   &#x27;Intake Type&#x27;,\n",
       "                                                   &#x27;Intake Condition&#x27;,\n",
       "                                                   &#x27;Pet Type&#x27;,\n",
       "                                                   &#x27;Sex upon Intake&#x27;]),\n",
       "                                                 (&#x27;text_pipe1&#x27;,\n",
       "                                                  Pipeline(steps=[(&#x27;vectorized&#x27;,\n",
       "                                                                   CountVectorizer(binary=True,\n",
       "                                                                                   max_features=50))]),\n",
       "                                                  &#x27;Color&#x27;),\n",
       "                                                 (&#x27;text_pipe2&#x27;,\n",
       "                                                  Pipeline(steps=[(&#x27;vectorized&#x27;,\n",
       "                                                                   CountVectorizer(binary=True,\n",
       "                                                                                   max_features=150))]),\n",
       "                                                  &#x27;Breed&#x27;)])),\n",
       "                (&#x27;decisiontree&#x27;, DecisionTreeClassifier())])</pre><b>In a Jupyter environment, please rerun this cell to show the HTML representation or trust the notebook. <br />On GitHub, the HTML representation is unable to render, please try loading this page with nbviewer.org.</b></div><div class=\"sk-container\" hidden><div class=\"sk-item sk-dashed-wrapped\"><div class=\"sk-label-container\"><div class=\"sk-label sk-toggleable\"><input class=\"sk-toggleable__control sk-hidden--visually\" id=\"sk-estimator-id-14\" type=\"checkbox\" ><label for=\"sk-estimator-id-14\" class=\"sk-toggleable__label sk-toggleable__label-arrow\">Pipeline</label><div class=\"sk-toggleable__content\"><pre>Pipeline(steps=[(&#x27;data_preprocess&#x27;,\n",
       "                 ColumnTransformer(transformers=[(&#x27;num_pipe&#x27;,\n",
       "                                                  Pipeline(steps=[(&#x27;impute&#x27;,\n",
       "                                                                   SimpleImputer()),\n",
       "                                                                  (&#x27;scal&#x27;,\n",
       "                                                                   MinMaxScaler())]),\n",
       "                                                  [&#x27;Age upon Intake Days&#x27;,\n",
       "                                                   &#x27;Age upon Outcome Days&#x27;]),\n",
       "                                                 (&#x27;cat_pipe&#x27;,\n",
       "                                                  Pipeline(steps=[(&#x27;impute&#x27;,\n",
       "                                                                   SimpleImputer(fill_value=&#x27;missing&#x27;,\n",
       "                                                                                 strategy=&#x27;constant&#x27;)),\n",
       "                                                                  (&#x27;scale&#x27;,\n",
       "                                                                   OneHotEncoder(handle_unknown=&#x27;ignore&#x27;))]),\n",
       "                                                  [&#x27;Sex upon Outcome&#x27;,\n",
       "                                                   &#x27;Intake Type&#x27;,\n",
       "                                                   &#x27;Intake Condition&#x27;,\n",
       "                                                   &#x27;Pet Type&#x27;,\n",
       "                                                   &#x27;Sex upon Intake&#x27;]),\n",
       "                                                 (&#x27;text_pipe1&#x27;,\n",
       "                                                  Pipeline(steps=[(&#x27;vectorized&#x27;,\n",
       "                                                                   CountVectorizer(binary=True,\n",
       "                                                                                   max_features=50))]),\n",
       "                                                  &#x27;Color&#x27;),\n",
       "                                                 (&#x27;text_pipe2&#x27;,\n",
       "                                                  Pipeline(steps=[(&#x27;vectorized&#x27;,\n",
       "                                                                   CountVectorizer(binary=True,\n",
       "                                                                                   max_features=150))]),\n",
       "                                                  &#x27;Breed&#x27;)])),\n",
       "                (&#x27;decisiontree&#x27;, DecisionTreeClassifier())])</pre></div></div></div><div class=\"sk-serial\"><div class=\"sk-item sk-dashed-wrapped\"><div class=\"sk-label-container\"><div class=\"sk-label sk-toggleable\"><input class=\"sk-toggleable__control sk-hidden--visually\" id=\"sk-estimator-id-15\" type=\"checkbox\" ><label for=\"sk-estimator-id-15\" class=\"sk-toggleable__label sk-toggleable__label-arrow\">data_preprocess: ColumnTransformer</label><div class=\"sk-toggleable__content\"><pre>ColumnTransformer(transformers=[(&#x27;num_pipe&#x27;,\n",
       "                                 Pipeline(steps=[(&#x27;impute&#x27;, SimpleImputer()),\n",
       "                                                 (&#x27;scal&#x27;, MinMaxScaler())]),\n",
       "                                 [&#x27;Age upon Intake Days&#x27;,\n",
       "                                  &#x27;Age upon Outcome Days&#x27;]),\n",
       "                                (&#x27;cat_pipe&#x27;,\n",
       "                                 Pipeline(steps=[(&#x27;impute&#x27;,\n",
       "                                                  SimpleImputer(fill_value=&#x27;missing&#x27;,\n",
       "                                                                strategy=&#x27;constant&#x27;)),\n",
       "                                                 (&#x27;scale&#x27;,\n",
       "                                                  OneHotEncoder(handle_unknown=&#x27;ignore&#x27;))]),\n",
       "                                 [&#x27;Sex upon Outcome&#x27;, &#x27;Intake Type&#x27;,\n",
       "                                  &#x27;Intake Condition&#x27;, &#x27;Pet Type&#x27;,\n",
       "                                  &#x27;Sex upon Intake&#x27;]),\n",
       "                                (&#x27;text_pipe1&#x27;,\n",
       "                                 Pipeline(steps=[(&#x27;vectorized&#x27;,\n",
       "                                                  CountVectorizer(binary=True,\n",
       "                                                                  max_features=50))]),\n",
       "                                 &#x27;Color&#x27;),\n",
       "                                (&#x27;text_pipe2&#x27;,\n",
       "                                 Pipeline(steps=[(&#x27;vectorized&#x27;,\n",
       "                                                  CountVectorizer(binary=True,\n",
       "                                                                  max_features=150))]),\n",
       "                                 &#x27;Breed&#x27;)])</pre></div></div></div><div class=\"sk-parallel\"><div class=\"sk-parallel-item\"><div class=\"sk-item\"><div class=\"sk-label-container\"><div class=\"sk-label sk-toggleable\"><input class=\"sk-toggleable__control sk-hidden--visually\" id=\"sk-estimator-id-16\" type=\"checkbox\" ><label for=\"sk-estimator-id-16\" class=\"sk-toggleable__label sk-toggleable__label-arrow\">num_pipe</label><div class=\"sk-toggleable__content\"><pre>[&#x27;Age upon Intake Days&#x27;, &#x27;Age upon Outcome Days&#x27;]</pre></div></div></div><div class=\"sk-serial\"><div class=\"sk-item\"><div class=\"sk-serial\"><div class=\"sk-item\"><div class=\"sk-estimator sk-toggleable\"><input class=\"sk-toggleable__control sk-hidden--visually\" id=\"sk-estimator-id-17\" type=\"checkbox\" ><label for=\"sk-estimator-id-17\" class=\"sk-toggleable__label sk-toggleable__label-arrow\">SimpleImputer</label><div class=\"sk-toggleable__content\"><pre>SimpleImputer()</pre></div></div></div><div class=\"sk-item\"><div class=\"sk-estimator sk-toggleable\"><input class=\"sk-toggleable__control sk-hidden--visually\" id=\"sk-estimator-id-18\" type=\"checkbox\" ><label for=\"sk-estimator-id-18\" class=\"sk-toggleable__label sk-toggleable__label-arrow\">MinMaxScaler</label><div class=\"sk-toggleable__content\"><pre>MinMaxScaler()</pre></div></div></div></div></div></div></div></div><div class=\"sk-parallel-item\"><div class=\"sk-item\"><div class=\"sk-label-container\"><div class=\"sk-label sk-toggleable\"><input class=\"sk-toggleable__control sk-hidden--visually\" id=\"sk-estimator-id-19\" type=\"checkbox\" ><label for=\"sk-estimator-id-19\" class=\"sk-toggleable__label sk-toggleable__label-arrow\">cat_pipe</label><div class=\"sk-toggleable__content\"><pre>[&#x27;Sex upon Outcome&#x27;, &#x27;Intake Type&#x27;, &#x27;Intake Condition&#x27;, &#x27;Pet Type&#x27;, &#x27;Sex upon Intake&#x27;]</pre></div></div></div><div class=\"sk-serial\"><div class=\"sk-item\"><div class=\"sk-serial\"><div class=\"sk-item\"><div class=\"sk-estimator sk-toggleable\"><input class=\"sk-toggleable__control sk-hidden--visually\" id=\"sk-estimator-id-20\" type=\"checkbox\" ><label for=\"sk-estimator-id-20\" class=\"sk-toggleable__label sk-toggleable__label-arrow\">SimpleImputer</label><div class=\"sk-toggleable__content\"><pre>SimpleImputer(fill_value=&#x27;missing&#x27;, strategy=&#x27;constant&#x27;)</pre></div></div></div><div class=\"sk-item\"><div class=\"sk-estimator sk-toggleable\"><input class=\"sk-toggleable__control sk-hidden--visually\" id=\"sk-estimator-id-21\" type=\"checkbox\" ><label for=\"sk-estimator-id-21\" class=\"sk-toggleable__label sk-toggleable__label-arrow\">OneHotEncoder</label><div class=\"sk-toggleable__content\"><pre>OneHotEncoder(handle_unknown=&#x27;ignore&#x27;)</pre></div></div></div></div></div></div></div></div><div class=\"sk-parallel-item\"><div class=\"sk-item\"><div class=\"sk-label-container\"><div class=\"sk-label sk-toggleable\"><input class=\"sk-toggleable__control sk-hidden--visually\" id=\"sk-estimator-id-22\" type=\"checkbox\" ><label for=\"sk-estimator-id-22\" class=\"sk-toggleable__label sk-toggleable__label-arrow\">text_pipe1</label><div class=\"sk-toggleable__content\"><pre>Color</pre></div></div></div><div class=\"sk-serial\"><div class=\"sk-item\"><div class=\"sk-serial\"><div class=\"sk-item\"><div class=\"sk-estimator sk-toggleable\"><input class=\"sk-toggleable__control sk-hidden--visually\" id=\"sk-estimator-id-23\" type=\"checkbox\" ><label for=\"sk-estimator-id-23\" class=\"sk-toggleable__label sk-toggleable__label-arrow\">CountVectorizer</label><div class=\"sk-toggleable__content\"><pre>CountVectorizer(binary=True, max_features=50)</pre></div></div></div></div></div></div></div></div><div class=\"sk-parallel-item\"><div class=\"sk-item\"><div class=\"sk-label-container\"><div class=\"sk-label sk-toggleable\"><input class=\"sk-toggleable__control sk-hidden--visually\" id=\"sk-estimator-id-24\" type=\"checkbox\" ><label for=\"sk-estimator-id-24\" class=\"sk-toggleable__label sk-toggleable__label-arrow\">text_pipe2</label><div class=\"sk-toggleable__content\"><pre>Breed</pre></div></div></div><div class=\"sk-serial\"><div class=\"sk-item\"><div class=\"sk-serial\"><div class=\"sk-item\"><div class=\"sk-estimator sk-toggleable\"><input class=\"sk-toggleable__control sk-hidden--visually\" id=\"sk-estimator-id-25\" type=\"checkbox\" ><label for=\"sk-estimator-id-25\" class=\"sk-toggleable__label sk-toggleable__label-arrow\">CountVectorizer</label><div class=\"sk-toggleable__content\"><pre>CountVectorizer(binary=True, max_features=150)</pre></div></div></div></div></div></div></div></div></div></div><div class=\"sk-item\"><div class=\"sk-estimator sk-toggleable\"><input class=\"sk-toggleable__control sk-hidden--visually\" id=\"sk-estimator-id-26\" type=\"checkbox\" ><label for=\"sk-estimator-id-26\" class=\"sk-toggleable__label sk-toggleable__label-arrow\">DecisionTreeClassifier</label><div class=\"sk-toggleable__content\"><pre>DecisionTreeClassifier()</pre></div></div></div></div></div></div></div>"
      ],
      "text/plain": [
       "Pipeline(steps=[('data_preprocess',\n",
       "                 ColumnTransformer(transformers=[('num_pipe',\n",
       "                                                  Pipeline(steps=[('impute',\n",
       "                                                                   SimpleImputer()),\n",
       "                                                                  ('scal',\n",
       "                                                                   MinMaxScaler())]),\n",
       "                                                  ['Age upon Intake Days',\n",
       "                                                   'Age upon Outcome Days']),\n",
       "                                                 ('cat_pipe',\n",
       "                                                  Pipeline(steps=[('impute',\n",
       "                                                                   SimpleImputer(fill_value='missing',\n",
       "                                                                                 strategy='constant')),\n",
       "                                                                  ('scale',\n",
       "                                                                   OneHotEncoder(handle_unknown='ignore'))]),\n",
       "                                                  ['Sex upon Outcome',\n",
       "                                                   'Intake Type',\n",
       "                                                   'Intake Condition',\n",
       "                                                   'Pet Type',\n",
       "                                                   'Sex upon Intake']),\n",
       "                                                 ('text_pipe1',\n",
       "                                                  Pipeline(steps=[('vectorized',\n",
       "                                                                   CountVectorizer(binary=True,\n",
       "                                                                                   max_features=50))]),\n",
       "                                                  'Color'),\n",
       "                                                 ('text_pipe2',\n",
       "                                                  Pipeline(steps=[('vectorized',\n",
       "                                                                   CountVectorizer(binary=True,\n",
       "                                                                                   max_features=150))]),\n",
       "                                                  'Breed')])),\n",
       "                ('decisiontree', DecisionTreeClassifier())])"
      ]
     },
     "execution_count": 33,
     "metadata": {},
     "output_type": "execute_result"
    }
   ],
   "source": [
    "#Train the model\n",
    "X_train = train_data[model_features]\n",
    "y_train = train_data[target]\n",
    "\n",
    "pipeline.fit(X_train, y_train)"
   ]
  },
  {
   "cell_type": "code",
   "execution_count": 34,
   "id": "d71caa96-3b63-4cd9-a1f4-2a51e3ce24ab",
   "metadata": {},
   "outputs": [],
   "source": [
    "#Use the fitted model on train data \n",
    "train_predictions = pipeline.predict(X_train)"
   ]
  },
  {
   "cell_type": "code",
   "execution_count": 35,
   "id": "b2020797-d738-44b3-9453-03b5230dcf07",
   "metadata": {},
   "outputs": [
    {
     "name": "stdout",
     "output_type": "stream",
     "text": [
      "Confusion Matrix\n",
      "[[38952  1715]\n",
      " [ 2386 38281]]\n",
      "Accuracy Score is 0.9495782821452283\n",
      "              precision    recall  f1-score   support\n",
      "\n",
      "         0.0       0.94      0.96      0.95     40667\n",
      "         1.0       0.96      0.94      0.95     40667\n",
      "\n",
      "    accuracy                           0.95     81334\n",
      "   macro avg       0.95      0.95      0.95     81334\n",
      "weighted avg       0.95      0.95      0.95     81334\n",
      "\n"
     ]
    }
   ],
   "source": [
    "#Evaluate performance of model\n",
    "from sklearn.metrics import confusion_matrix, classification_report, accuracy_score\n",
    "print(\"Confusion Matrix\")\n",
    "print(confusion_matrix(y_train, train_predictions))\n",
    "print(\"Accuracy Score is\", accuracy_score(y_train, train_predictions))\n",
    "print(classification_report(y_train, train_predictions))"
   ]
  },
  {
   "cell_type": "code",
   "execution_count": 36,
   "id": "659ab5f4-49b9-4785-919e-82c59c126121",
   "metadata": {},
   "outputs": [
    {
     "name": "stdout",
     "output_type": "stream",
     "text": [
      "Confusion Matrix\n",
      "[[3616   50]\n",
      " [ 134 4455]]\n",
      "Accuracy Score is 0.9777104784978801\n",
      "              precision    recall  f1-score   support\n",
      "\n",
      "         0.0       0.96      0.99      0.98      3666\n",
      "         1.0       0.99      0.97      0.98      4589\n",
      "\n",
      "    accuracy                           0.98      8255\n",
      "   macro avg       0.98      0.98      0.98      8255\n",
      "weighted avg       0.98      0.98      0.98      8255\n",
      "\n"
     ]
    }
   ],
   "source": [
    "#Use the fitted model on test data\n",
    "X_test = test_data[model_features]\n",
    "y_test = test_data[target]\n",
    "pipeline.fit(X_test, y_test)\n",
    "test_prediction = pipeline.predict(X_test)\n",
    "print(\"Confusion Matrix\")\n",
    "print(confusion_matrix(y_test, test_prediction))\n",
    "print(\"Accuracy Score is\", accuracy_score(y_test, test_prediction))\n",
    "print(classification_report(y_test, test_prediction))"
   ]
  },
  {
   "cell_type": "markdown",
   "id": "b5ae7e8f-eebf-4cf6-9bde-b62290146dbe",
   "metadata": {},
   "source": [
    "## !Important. The name of the classifier used in paramgrid (prefix of the hyperparameters) has to match the name of the classifier specified in the pipeline"
   ]
  },
  {
   "cell_type": "code",
   "execution_count": 39,
   "id": "50b1adfe-c35f-4711-bf31-76c438d84849",
   "metadata": {},
   "outputs": [
    {
     "name": "stdout",
     "output_type": "stream",
     "text": [
      "Fitting 5 folds for each of 27 candidates, totalling 135 fits\n"
     ]
    },
    {
     "data": {
      "text/html": [
       "<style>#sk-container-id-4 {color: black;background-color: white;}#sk-container-id-4 pre{padding: 0;}#sk-container-id-4 div.sk-toggleable {background-color: white;}#sk-container-id-4 label.sk-toggleable__label {cursor: pointer;display: block;width: 100%;margin-bottom: 0;padding: 0.3em;box-sizing: border-box;text-align: center;}#sk-container-id-4 label.sk-toggleable__label-arrow:before {content: \"▸\";float: left;margin-right: 0.25em;color: #696969;}#sk-container-id-4 label.sk-toggleable__label-arrow:hover:before {color: black;}#sk-container-id-4 div.sk-estimator:hover label.sk-toggleable__label-arrow:before {color: black;}#sk-container-id-4 div.sk-toggleable__content {max-height: 0;max-width: 0;overflow: hidden;text-align: left;background-color: #f0f8ff;}#sk-container-id-4 div.sk-toggleable__content pre {margin: 0.2em;color: black;border-radius: 0.25em;background-color: #f0f8ff;}#sk-container-id-4 input.sk-toggleable__control:checked~div.sk-toggleable__content {max-height: 200px;max-width: 100%;overflow: auto;}#sk-container-id-4 input.sk-toggleable__control:checked~label.sk-toggleable__label-arrow:before {content: \"▾\";}#sk-container-id-4 div.sk-estimator input.sk-toggleable__control:checked~label.sk-toggleable__label {background-color: #d4ebff;}#sk-container-id-4 div.sk-label input.sk-toggleable__control:checked~label.sk-toggleable__label {background-color: #d4ebff;}#sk-container-id-4 input.sk-hidden--visually {border: 0;clip: rect(1px 1px 1px 1px);clip: rect(1px, 1px, 1px, 1px);height: 1px;margin: -1px;overflow: hidden;padding: 0;position: absolute;width: 1px;}#sk-container-id-4 div.sk-estimator {font-family: monospace;background-color: #f0f8ff;border: 1px dotted black;border-radius: 0.25em;box-sizing: border-box;margin-bottom: 0.5em;}#sk-container-id-4 div.sk-estimator:hover {background-color: #d4ebff;}#sk-container-id-4 div.sk-parallel-item::after {content: \"\";width: 100%;border-bottom: 1px solid gray;flex-grow: 1;}#sk-container-id-4 div.sk-label:hover label.sk-toggleable__label {background-color: #d4ebff;}#sk-container-id-4 div.sk-serial::before {content: \"\";position: absolute;border-left: 1px solid gray;box-sizing: border-box;top: 0;bottom: 0;left: 50%;z-index: 0;}#sk-container-id-4 div.sk-serial {display: flex;flex-direction: column;align-items: center;background-color: white;padding-right: 0.2em;padding-left: 0.2em;position: relative;}#sk-container-id-4 div.sk-item {position: relative;z-index: 1;}#sk-container-id-4 div.sk-parallel {display: flex;align-items: stretch;justify-content: center;background-color: white;position: relative;}#sk-container-id-4 div.sk-item::before, #sk-container-id-4 div.sk-parallel-item::before {content: \"\";position: absolute;border-left: 1px solid gray;box-sizing: border-box;top: 0;bottom: 0;left: 50%;z-index: -1;}#sk-container-id-4 div.sk-parallel-item {display: flex;flex-direction: column;z-index: 1;position: relative;background-color: white;}#sk-container-id-4 div.sk-parallel-item:first-child::after {align-self: flex-end;width: 50%;}#sk-container-id-4 div.sk-parallel-item:last-child::after {align-self: flex-start;width: 50%;}#sk-container-id-4 div.sk-parallel-item:only-child::after {width: 0;}#sk-container-id-4 div.sk-dashed-wrapped {border: 1px dashed gray;margin: 0 0.4em 0.5em 0.4em;box-sizing: border-box;padding-bottom: 0.4em;background-color: white;}#sk-container-id-4 div.sk-label label {font-family: monospace;font-weight: bold;display: inline-block;line-height: 1.2em;}#sk-container-id-4 div.sk-label-container {text-align: center;}#sk-container-id-4 div.sk-container {/* jupyter's `normalize.less` sets `[hidden] { display: none; }` but bootstrap.min.css set `[hidden] { display: none !important; }` so we also need the `!important` here to be able to override the default hidden behavior on the sphinx rendered scikit-learn.org. See: https://github.com/scikit-learn/scikit-learn/issues/21755 */display: inline-block !important;position: relative;}#sk-container-id-4 div.sk-text-repr-fallback {display: none;}</style><div id=\"sk-container-id-4\" class=\"sk-top-container\"><div class=\"sk-text-repr-fallback\"><pre>GridSearchCV(cv=5,\n",
       "             estimator=Pipeline(steps=[(&#x27;data_preprocess&#x27;,\n",
       "                                        ColumnTransformer(transformers=[(&#x27;num_pipe&#x27;,\n",
       "                                                                         Pipeline(steps=[(&#x27;impute&#x27;,\n",
       "                                                                                          SimpleImputer()),\n",
       "                                                                                         (&#x27;scal&#x27;,\n",
       "                                                                                          MinMaxScaler())]),\n",
       "                                                                         [&#x27;Age &#x27;\n",
       "                                                                          &#x27;upon &#x27;\n",
       "                                                                          &#x27;Intake &#x27;\n",
       "                                                                          &#x27;Days&#x27;,\n",
       "                                                                          &#x27;Age &#x27;\n",
       "                                                                          &#x27;upon &#x27;\n",
       "                                                                          &#x27;Outcome &#x27;\n",
       "                                                                          &#x27;Days&#x27;]),\n",
       "                                                                        (&#x27;cat_pipe&#x27;,\n",
       "                                                                         Pipeline(steps=[(&#x27;impute&#x27;,\n",
       "                                                                                          SimpleImputer(fill_value=&#x27;missing&#x27;,\n",
       "                                                                                                        strategy=&#x27;constant&#x27;)),\n",
       "                                                                                         (&#x27;scale&#x27;,\n",
       "                                                                                          OneHotEncoder(...\n",
       "                                                                                          CountVectorizer(binary=True,\n",
       "                                                                                                          max_features=50))]),\n",
       "                                                                         &#x27;Color&#x27;),\n",
       "                                                                        (&#x27;text_pipe2&#x27;,\n",
       "                                                                         Pipeline(steps=[(&#x27;vectorized&#x27;,\n",
       "                                                                                          CountVectorizer(binary=True,\n",
       "                                                                                                          max_features=150))]),\n",
       "                                                                         &#x27;Breed&#x27;)])),\n",
       "                                       (&#x27;decisiontree&#x27;,\n",
       "                                        DecisionTreeClassifier())]),\n",
       "             n_jobs=-1,\n",
       "             param_grid={&#x27;decisiontree__max_depth&#x27;: [100, 200, 300],\n",
       "                         &#x27;decisiontree__min_samples_leaf&#x27;: [5, 10, 15],\n",
       "                         &#x27;decisiontree__min_samples_split&#x27;: [2, 5, 15]},\n",
       "             verbose=1)</pre><b>In a Jupyter environment, please rerun this cell to show the HTML representation or trust the notebook. <br />On GitHub, the HTML representation is unable to render, please try loading this page with nbviewer.org.</b></div><div class=\"sk-container\" hidden><div class=\"sk-item sk-dashed-wrapped\"><div class=\"sk-label-container\"><div class=\"sk-label sk-toggleable\"><input class=\"sk-toggleable__control sk-hidden--visually\" id=\"sk-estimator-id-41\" type=\"checkbox\" ><label for=\"sk-estimator-id-41\" class=\"sk-toggleable__label sk-toggleable__label-arrow\">GridSearchCV</label><div class=\"sk-toggleable__content\"><pre>GridSearchCV(cv=5,\n",
       "             estimator=Pipeline(steps=[(&#x27;data_preprocess&#x27;,\n",
       "                                        ColumnTransformer(transformers=[(&#x27;num_pipe&#x27;,\n",
       "                                                                         Pipeline(steps=[(&#x27;impute&#x27;,\n",
       "                                                                                          SimpleImputer()),\n",
       "                                                                                         (&#x27;scal&#x27;,\n",
       "                                                                                          MinMaxScaler())]),\n",
       "                                                                         [&#x27;Age &#x27;\n",
       "                                                                          &#x27;upon &#x27;\n",
       "                                                                          &#x27;Intake &#x27;\n",
       "                                                                          &#x27;Days&#x27;,\n",
       "                                                                          &#x27;Age &#x27;\n",
       "                                                                          &#x27;upon &#x27;\n",
       "                                                                          &#x27;Outcome &#x27;\n",
       "                                                                          &#x27;Days&#x27;]),\n",
       "                                                                        (&#x27;cat_pipe&#x27;,\n",
       "                                                                         Pipeline(steps=[(&#x27;impute&#x27;,\n",
       "                                                                                          SimpleImputer(fill_value=&#x27;missing&#x27;,\n",
       "                                                                                                        strategy=&#x27;constant&#x27;)),\n",
       "                                                                                         (&#x27;scale&#x27;,\n",
       "                                                                                          OneHotEncoder(...\n",
       "                                                                                          CountVectorizer(binary=True,\n",
       "                                                                                                          max_features=50))]),\n",
       "                                                                         &#x27;Color&#x27;),\n",
       "                                                                        (&#x27;text_pipe2&#x27;,\n",
       "                                                                         Pipeline(steps=[(&#x27;vectorized&#x27;,\n",
       "                                                                                          CountVectorizer(binary=True,\n",
       "                                                                                                          max_features=150))]),\n",
       "                                                                         &#x27;Breed&#x27;)])),\n",
       "                                       (&#x27;decisiontree&#x27;,\n",
       "                                        DecisionTreeClassifier())]),\n",
       "             n_jobs=-1,\n",
       "             param_grid={&#x27;decisiontree__max_depth&#x27;: [100, 200, 300],\n",
       "                         &#x27;decisiontree__min_samples_leaf&#x27;: [5, 10, 15],\n",
       "                         &#x27;decisiontree__min_samples_split&#x27;: [2, 5, 15]},\n",
       "             verbose=1)</pre></div></div></div><div class=\"sk-parallel\"><div class=\"sk-parallel-item\"><div class=\"sk-item\"><div class=\"sk-label-container\"><div class=\"sk-label sk-toggleable\"><input class=\"sk-toggleable__control sk-hidden--visually\" id=\"sk-estimator-id-42\" type=\"checkbox\" ><label for=\"sk-estimator-id-42\" class=\"sk-toggleable__label sk-toggleable__label-arrow\">estimator: Pipeline</label><div class=\"sk-toggleable__content\"><pre>Pipeline(steps=[(&#x27;data_preprocess&#x27;,\n",
       "                 ColumnTransformer(transformers=[(&#x27;num_pipe&#x27;,\n",
       "                                                  Pipeline(steps=[(&#x27;impute&#x27;,\n",
       "                                                                   SimpleImputer()),\n",
       "                                                                  (&#x27;scal&#x27;,\n",
       "                                                                   MinMaxScaler())]),\n",
       "                                                  [&#x27;Age upon Intake Days&#x27;,\n",
       "                                                   &#x27;Age upon Outcome Days&#x27;]),\n",
       "                                                 (&#x27;cat_pipe&#x27;,\n",
       "                                                  Pipeline(steps=[(&#x27;impute&#x27;,\n",
       "                                                                   SimpleImputer(fill_value=&#x27;missing&#x27;,\n",
       "                                                                                 strategy=&#x27;constant&#x27;)),\n",
       "                                                                  (&#x27;scale&#x27;,\n",
       "                                                                   OneHotEncoder(handle_unknown=&#x27;ignore&#x27;))]),\n",
       "                                                  [&#x27;Sex upon Outcome&#x27;,\n",
       "                                                   &#x27;Intake Type&#x27;,\n",
       "                                                   &#x27;Intake Condition&#x27;,\n",
       "                                                   &#x27;Pet Type&#x27;,\n",
       "                                                   &#x27;Sex upon Intake&#x27;]),\n",
       "                                                 (&#x27;text_pipe1&#x27;,\n",
       "                                                  Pipeline(steps=[(&#x27;vectorized&#x27;,\n",
       "                                                                   CountVectorizer(binary=True,\n",
       "                                                                                   max_features=50))]),\n",
       "                                                  &#x27;Color&#x27;),\n",
       "                                                 (&#x27;text_pipe2&#x27;,\n",
       "                                                  Pipeline(steps=[(&#x27;vectorized&#x27;,\n",
       "                                                                   CountVectorizer(binary=True,\n",
       "                                                                                   max_features=150))]),\n",
       "                                                  &#x27;Breed&#x27;)])),\n",
       "                (&#x27;decisiontree&#x27;, DecisionTreeClassifier())])</pre></div></div></div><div class=\"sk-serial\"><div class=\"sk-item\"><div class=\"sk-serial\"><div class=\"sk-item sk-dashed-wrapped\"><div class=\"sk-label-container\"><div class=\"sk-label sk-toggleable\"><input class=\"sk-toggleable__control sk-hidden--visually\" id=\"sk-estimator-id-43\" type=\"checkbox\" ><label for=\"sk-estimator-id-43\" class=\"sk-toggleable__label sk-toggleable__label-arrow\">data_preprocess: ColumnTransformer</label><div class=\"sk-toggleable__content\"><pre>ColumnTransformer(transformers=[(&#x27;num_pipe&#x27;,\n",
       "                                 Pipeline(steps=[(&#x27;impute&#x27;, SimpleImputer()),\n",
       "                                                 (&#x27;scal&#x27;, MinMaxScaler())]),\n",
       "                                 [&#x27;Age upon Intake Days&#x27;,\n",
       "                                  &#x27;Age upon Outcome Days&#x27;]),\n",
       "                                (&#x27;cat_pipe&#x27;,\n",
       "                                 Pipeline(steps=[(&#x27;impute&#x27;,\n",
       "                                                  SimpleImputer(fill_value=&#x27;missing&#x27;,\n",
       "                                                                strategy=&#x27;constant&#x27;)),\n",
       "                                                 (&#x27;scale&#x27;,\n",
       "                                                  OneHotEncoder(handle_unknown=&#x27;ignore&#x27;))]),\n",
       "                                 [&#x27;Sex upon Outcome&#x27;, &#x27;Intake Type&#x27;,\n",
       "                                  &#x27;Intake Condition&#x27;, &#x27;Pet Type&#x27;,\n",
       "                                  &#x27;Sex upon Intake&#x27;]),\n",
       "                                (&#x27;text_pipe1&#x27;,\n",
       "                                 Pipeline(steps=[(&#x27;vectorized&#x27;,\n",
       "                                                  CountVectorizer(binary=True,\n",
       "                                                                  max_features=50))]),\n",
       "                                 &#x27;Color&#x27;),\n",
       "                                (&#x27;text_pipe2&#x27;,\n",
       "                                 Pipeline(steps=[(&#x27;vectorized&#x27;,\n",
       "                                                  CountVectorizer(binary=True,\n",
       "                                                                  max_features=150))]),\n",
       "                                 &#x27;Breed&#x27;)])</pre></div></div></div><div class=\"sk-parallel\"><div class=\"sk-parallel-item\"><div class=\"sk-item\"><div class=\"sk-label-container\"><div class=\"sk-label sk-toggleable\"><input class=\"sk-toggleable__control sk-hidden--visually\" id=\"sk-estimator-id-44\" type=\"checkbox\" ><label for=\"sk-estimator-id-44\" class=\"sk-toggleable__label sk-toggleable__label-arrow\">num_pipe</label><div class=\"sk-toggleable__content\"><pre>[&#x27;Age upon Intake Days&#x27;, &#x27;Age upon Outcome Days&#x27;]</pre></div></div></div><div class=\"sk-serial\"><div class=\"sk-item\"><div class=\"sk-serial\"><div class=\"sk-item\"><div class=\"sk-estimator sk-toggleable\"><input class=\"sk-toggleable__control sk-hidden--visually\" id=\"sk-estimator-id-45\" type=\"checkbox\" ><label for=\"sk-estimator-id-45\" class=\"sk-toggleable__label sk-toggleable__label-arrow\">SimpleImputer</label><div class=\"sk-toggleable__content\"><pre>SimpleImputer()</pre></div></div></div><div class=\"sk-item\"><div class=\"sk-estimator sk-toggleable\"><input class=\"sk-toggleable__control sk-hidden--visually\" id=\"sk-estimator-id-46\" type=\"checkbox\" ><label for=\"sk-estimator-id-46\" class=\"sk-toggleable__label sk-toggleable__label-arrow\">MinMaxScaler</label><div class=\"sk-toggleable__content\"><pre>MinMaxScaler()</pre></div></div></div></div></div></div></div></div><div class=\"sk-parallel-item\"><div class=\"sk-item\"><div class=\"sk-label-container\"><div class=\"sk-label sk-toggleable\"><input class=\"sk-toggleable__control sk-hidden--visually\" id=\"sk-estimator-id-47\" type=\"checkbox\" ><label for=\"sk-estimator-id-47\" class=\"sk-toggleable__label sk-toggleable__label-arrow\">cat_pipe</label><div class=\"sk-toggleable__content\"><pre>[&#x27;Sex upon Outcome&#x27;, &#x27;Intake Type&#x27;, &#x27;Intake Condition&#x27;, &#x27;Pet Type&#x27;, &#x27;Sex upon Intake&#x27;]</pre></div></div></div><div class=\"sk-serial\"><div class=\"sk-item\"><div class=\"sk-serial\"><div class=\"sk-item\"><div class=\"sk-estimator sk-toggleable\"><input class=\"sk-toggleable__control sk-hidden--visually\" id=\"sk-estimator-id-48\" type=\"checkbox\" ><label for=\"sk-estimator-id-48\" class=\"sk-toggleable__label sk-toggleable__label-arrow\">SimpleImputer</label><div class=\"sk-toggleable__content\"><pre>SimpleImputer(fill_value=&#x27;missing&#x27;, strategy=&#x27;constant&#x27;)</pre></div></div></div><div class=\"sk-item\"><div class=\"sk-estimator sk-toggleable\"><input class=\"sk-toggleable__control sk-hidden--visually\" id=\"sk-estimator-id-49\" type=\"checkbox\" ><label for=\"sk-estimator-id-49\" class=\"sk-toggleable__label sk-toggleable__label-arrow\">OneHotEncoder</label><div class=\"sk-toggleable__content\"><pre>OneHotEncoder(handle_unknown=&#x27;ignore&#x27;)</pre></div></div></div></div></div></div></div></div><div class=\"sk-parallel-item\"><div class=\"sk-item\"><div class=\"sk-label-container\"><div class=\"sk-label sk-toggleable\"><input class=\"sk-toggleable__control sk-hidden--visually\" id=\"sk-estimator-id-50\" type=\"checkbox\" ><label for=\"sk-estimator-id-50\" class=\"sk-toggleable__label sk-toggleable__label-arrow\">text_pipe1</label><div class=\"sk-toggleable__content\"><pre>Color</pre></div></div></div><div class=\"sk-serial\"><div class=\"sk-item\"><div class=\"sk-serial\"><div class=\"sk-item\"><div class=\"sk-estimator sk-toggleable\"><input class=\"sk-toggleable__control sk-hidden--visually\" id=\"sk-estimator-id-51\" type=\"checkbox\" ><label for=\"sk-estimator-id-51\" class=\"sk-toggleable__label sk-toggleable__label-arrow\">CountVectorizer</label><div class=\"sk-toggleable__content\"><pre>CountVectorizer(binary=True, max_features=50)</pre></div></div></div></div></div></div></div></div><div class=\"sk-parallel-item\"><div class=\"sk-item\"><div class=\"sk-label-container\"><div class=\"sk-label sk-toggleable\"><input class=\"sk-toggleable__control sk-hidden--visually\" id=\"sk-estimator-id-52\" type=\"checkbox\" ><label for=\"sk-estimator-id-52\" class=\"sk-toggleable__label sk-toggleable__label-arrow\">text_pipe2</label><div class=\"sk-toggleable__content\"><pre>Breed</pre></div></div></div><div class=\"sk-serial\"><div class=\"sk-item\"><div class=\"sk-serial\"><div class=\"sk-item\"><div class=\"sk-estimator sk-toggleable\"><input class=\"sk-toggleable__control sk-hidden--visually\" id=\"sk-estimator-id-53\" type=\"checkbox\" ><label for=\"sk-estimator-id-53\" class=\"sk-toggleable__label sk-toggleable__label-arrow\">CountVectorizer</label><div class=\"sk-toggleable__content\"><pre>CountVectorizer(binary=True, max_features=150)</pre></div></div></div></div></div></div></div></div></div></div><div class=\"sk-item\"><div class=\"sk-estimator sk-toggleable\"><input class=\"sk-toggleable__control sk-hidden--visually\" id=\"sk-estimator-id-54\" type=\"checkbox\" ><label for=\"sk-estimator-id-54\" class=\"sk-toggleable__label sk-toggleable__label-arrow\">DecisionTreeClassifier</label><div class=\"sk-toggleable__content\"><pre>DecisionTreeClassifier()</pre></div></div></div></div></div></div></div></div></div></div></div></div>"
      ],
      "text/plain": [
       "GridSearchCV(cv=5,\n",
       "             estimator=Pipeline(steps=[('data_preprocess',\n",
       "                                        ColumnTransformer(transformers=[('num_pipe',\n",
       "                                                                         Pipeline(steps=[('impute',\n",
       "                                                                                          SimpleImputer()),\n",
       "                                                                                         ('scal',\n",
       "                                                                                          MinMaxScaler())]),\n",
       "                                                                         ['Age '\n",
       "                                                                          'upon '\n",
       "                                                                          'Intake '\n",
       "                                                                          'Days',\n",
       "                                                                          'Age '\n",
       "                                                                          'upon '\n",
       "                                                                          'Outcome '\n",
       "                                                                          'Days']),\n",
       "                                                                        ('cat_pipe',\n",
       "                                                                         Pipeline(steps=[('impute',\n",
       "                                                                                          SimpleImputer(fill_value='missing',\n",
       "                                                                                                        strategy='constant')),\n",
       "                                                                                         ('scale',\n",
       "                                                                                          OneHotEncoder(...\n",
       "                                                                                          CountVectorizer(binary=True,\n",
       "                                                                                                          max_features=50))]),\n",
       "                                                                         'Color'),\n",
       "                                                                        ('text_pipe2',\n",
       "                                                                         Pipeline(steps=[('vectorized',\n",
       "                                                                                          CountVectorizer(binary=True,\n",
       "                                                                                                          max_features=150))]),\n",
       "                                                                         'Breed')])),\n",
       "                                       ('decisiontree',\n",
       "                                        DecisionTreeClassifier())]),\n",
       "             n_jobs=-1,\n",
       "             param_grid={'decisiontree__max_depth': [100, 200, 300],\n",
       "                         'decisiontree__min_samples_leaf': [5, 10, 15],\n",
       "                         'decisiontree__min_samples_split': [2, 5, 15]},\n",
       "             verbose=1)"
      ]
     },
     "execution_count": 39,
     "metadata": {},
     "output_type": "execute_result"
    }
   ],
   "source": [
    "from sklearn.model_selection import GridSearchCV, RandomizedSearchCV\n",
    "\n",
    "# Parameter grid for GridSearch\n",
    "param_grid={'decisiontree__max_depth': [100, 200, 300],#, 50, 75, 100, 125, 150, 200, 250], \n",
    "            'decisiontree__min_samples_leaf': [5, 10, 15],#, 25, 30],\n",
    "            'decisiontree__min_samples_split': [2, 5, 15]#, 25, 30, 45, 50]\n",
    "           }\n",
    "\n",
    "gridsearch = GridSearchCV(pipeline, \n",
    "             param_grid, \n",
    "             cv = 5, \n",
    "             verbose = 1,\n",
    "             n_jobs= -1)\n",
    "            \n",
    "gridsearch.fit(X_train, y_train)"
   ]
  },
  {
   "cell_type": "code",
   "execution_count": 40,
   "id": "a03ed8e5-92f4-43b2-946e-acc44014da49",
   "metadata": {},
   "outputs": [
    {
     "name": "stdout",
     "output_type": "stream",
     "text": [
      "{'decisiontree__max_depth': 100, 'decisiontree__min_samples_leaf': 10, 'decisiontree__min_samples_split': 15}\n",
      "0.8385300297897548\n"
     ]
    }
   ],
   "source": [
    "print(gridsearch.best_params_)\n",
    "print(gridsearch.best_score_)"
   ]
  },
  {
   "cell_type": "markdown",
   "id": "b6c556af-c36a-4d43-ab32-9d387490ef06",
   "metadata": {},
   "source": [
    "## 3. Retrain the decision model using the tuned parameters"
   ]
  },
  {
   "cell_type": "code",
   "execution_count": 41,
   "id": "373514cd-3c9f-4146-b9aa-0726775f6290",
   "metadata": {},
   "outputs": [
    {
     "data": {
      "text/html": [
       "<style>#sk-container-id-5 {color: black;background-color: white;}#sk-container-id-5 pre{padding: 0;}#sk-container-id-5 div.sk-toggleable {background-color: white;}#sk-container-id-5 label.sk-toggleable__label {cursor: pointer;display: block;width: 100%;margin-bottom: 0;padding: 0.3em;box-sizing: border-box;text-align: center;}#sk-container-id-5 label.sk-toggleable__label-arrow:before {content: \"▸\";float: left;margin-right: 0.25em;color: #696969;}#sk-container-id-5 label.sk-toggleable__label-arrow:hover:before {color: black;}#sk-container-id-5 div.sk-estimator:hover label.sk-toggleable__label-arrow:before {color: black;}#sk-container-id-5 div.sk-toggleable__content {max-height: 0;max-width: 0;overflow: hidden;text-align: left;background-color: #f0f8ff;}#sk-container-id-5 div.sk-toggleable__content pre {margin: 0.2em;color: black;border-radius: 0.25em;background-color: #f0f8ff;}#sk-container-id-5 input.sk-toggleable__control:checked~div.sk-toggleable__content {max-height: 200px;max-width: 100%;overflow: auto;}#sk-container-id-5 input.sk-toggleable__control:checked~label.sk-toggleable__label-arrow:before {content: \"▾\";}#sk-container-id-5 div.sk-estimator input.sk-toggleable__control:checked~label.sk-toggleable__label {background-color: #d4ebff;}#sk-container-id-5 div.sk-label input.sk-toggleable__control:checked~label.sk-toggleable__label {background-color: #d4ebff;}#sk-container-id-5 input.sk-hidden--visually {border: 0;clip: rect(1px 1px 1px 1px);clip: rect(1px, 1px, 1px, 1px);height: 1px;margin: -1px;overflow: hidden;padding: 0;position: absolute;width: 1px;}#sk-container-id-5 div.sk-estimator {font-family: monospace;background-color: #f0f8ff;border: 1px dotted black;border-radius: 0.25em;box-sizing: border-box;margin-bottom: 0.5em;}#sk-container-id-5 div.sk-estimator:hover {background-color: #d4ebff;}#sk-container-id-5 div.sk-parallel-item::after {content: \"\";width: 100%;border-bottom: 1px solid gray;flex-grow: 1;}#sk-container-id-5 div.sk-label:hover label.sk-toggleable__label {background-color: #d4ebff;}#sk-container-id-5 div.sk-serial::before {content: \"\";position: absolute;border-left: 1px solid gray;box-sizing: border-box;top: 0;bottom: 0;left: 50%;z-index: 0;}#sk-container-id-5 div.sk-serial {display: flex;flex-direction: column;align-items: center;background-color: white;padding-right: 0.2em;padding-left: 0.2em;position: relative;}#sk-container-id-5 div.sk-item {position: relative;z-index: 1;}#sk-container-id-5 div.sk-parallel {display: flex;align-items: stretch;justify-content: center;background-color: white;position: relative;}#sk-container-id-5 div.sk-item::before, #sk-container-id-5 div.sk-parallel-item::before {content: \"\";position: absolute;border-left: 1px solid gray;box-sizing: border-box;top: 0;bottom: 0;left: 50%;z-index: -1;}#sk-container-id-5 div.sk-parallel-item {display: flex;flex-direction: column;z-index: 1;position: relative;background-color: white;}#sk-container-id-5 div.sk-parallel-item:first-child::after {align-self: flex-end;width: 50%;}#sk-container-id-5 div.sk-parallel-item:last-child::after {align-self: flex-start;width: 50%;}#sk-container-id-5 div.sk-parallel-item:only-child::after {width: 0;}#sk-container-id-5 div.sk-dashed-wrapped {border: 1px dashed gray;margin: 0 0.4em 0.5em 0.4em;box-sizing: border-box;padding-bottom: 0.4em;background-color: white;}#sk-container-id-5 div.sk-label label {font-family: monospace;font-weight: bold;display: inline-block;line-height: 1.2em;}#sk-container-id-5 div.sk-label-container {text-align: center;}#sk-container-id-5 div.sk-container {/* jupyter's `normalize.less` sets `[hidden] { display: none; }` but bootstrap.min.css set `[hidden] { display: none !important; }` so we also need the `!important` here to be able to override the default hidden behavior on the sphinx rendered scikit-learn.org. See: https://github.com/scikit-learn/scikit-learn/issues/21755 */display: inline-block !important;position: relative;}#sk-container-id-5 div.sk-text-repr-fallback {display: none;}</style><div id=\"sk-container-id-5\" class=\"sk-top-container\"><div class=\"sk-text-repr-fallback\"><pre>Pipeline(steps=[(&#x27;data_preprocess&#x27;,\n",
       "                 ColumnTransformer(transformers=[(&#x27;num_pipe&#x27;,\n",
       "                                                  Pipeline(steps=[(&#x27;impute&#x27;,\n",
       "                                                                   SimpleImputer()),\n",
       "                                                                  (&#x27;scal&#x27;,\n",
       "                                                                   MinMaxScaler())]),\n",
       "                                                  [&#x27;Age upon Intake Days&#x27;,\n",
       "                                                   &#x27;Age upon Outcome Days&#x27;]),\n",
       "                                                 (&#x27;cat_pipe&#x27;,\n",
       "                                                  Pipeline(steps=[(&#x27;impute&#x27;,\n",
       "                                                                   SimpleImputer(fill_value=&#x27;missing&#x27;,\n",
       "                                                                                 strategy=&#x27;constant&#x27;)),\n",
       "                                                                  (&#x27;scale&#x27;,\n",
       "                                                                   OneHotEncoder(handle_unknown=&#x27;ignore&#x27;))]),\n",
       "                                                  [&#x27;Sex upon Out...\n",
       "                                                   &#x27;Intake Type&#x27;,\n",
       "                                                   &#x27;Intake Condition&#x27;,\n",
       "                                                   &#x27;Pet Type&#x27;,\n",
       "                                                   &#x27;Sex upon Intake&#x27;]),\n",
       "                                                 (&#x27;text_pipe1&#x27;,\n",
       "                                                  Pipeline(steps=[(&#x27;vectorized&#x27;,\n",
       "                                                                   CountVectorizer(binary=True,\n",
       "                                                                                   max_features=50))]),\n",
       "                                                  &#x27;Color&#x27;),\n",
       "                                                 (&#x27;text_pipe2&#x27;,\n",
       "                                                  Pipeline(steps=[(&#x27;vectorized&#x27;,\n",
       "                                                                   CountVectorizer(binary=True,\n",
       "                                                                                   max_features=150))]),\n",
       "                                                  &#x27;Breed&#x27;)])),\n",
       "                (&#x27;decisiontree&#x27;,\n",
       "                 DecisionTreeClassifier(max_depth=100, min_samples_leaf=10,\n",
       "                                        min_samples_split=15))])</pre><b>In a Jupyter environment, please rerun this cell to show the HTML representation or trust the notebook. <br />On GitHub, the HTML representation is unable to render, please try loading this page with nbviewer.org.</b></div><div class=\"sk-container\" hidden><div class=\"sk-item sk-dashed-wrapped\"><div class=\"sk-label-container\"><div class=\"sk-label sk-toggleable\"><input class=\"sk-toggleable__control sk-hidden--visually\" id=\"sk-estimator-id-55\" type=\"checkbox\" ><label for=\"sk-estimator-id-55\" class=\"sk-toggleable__label sk-toggleable__label-arrow\">Pipeline</label><div class=\"sk-toggleable__content\"><pre>Pipeline(steps=[(&#x27;data_preprocess&#x27;,\n",
       "                 ColumnTransformer(transformers=[(&#x27;num_pipe&#x27;,\n",
       "                                                  Pipeline(steps=[(&#x27;impute&#x27;,\n",
       "                                                                   SimpleImputer()),\n",
       "                                                                  (&#x27;scal&#x27;,\n",
       "                                                                   MinMaxScaler())]),\n",
       "                                                  [&#x27;Age upon Intake Days&#x27;,\n",
       "                                                   &#x27;Age upon Outcome Days&#x27;]),\n",
       "                                                 (&#x27;cat_pipe&#x27;,\n",
       "                                                  Pipeline(steps=[(&#x27;impute&#x27;,\n",
       "                                                                   SimpleImputer(fill_value=&#x27;missing&#x27;,\n",
       "                                                                                 strategy=&#x27;constant&#x27;)),\n",
       "                                                                  (&#x27;scale&#x27;,\n",
       "                                                                   OneHotEncoder(handle_unknown=&#x27;ignore&#x27;))]),\n",
       "                                                  [&#x27;Sex upon Out...\n",
       "                                                   &#x27;Intake Type&#x27;,\n",
       "                                                   &#x27;Intake Condition&#x27;,\n",
       "                                                   &#x27;Pet Type&#x27;,\n",
       "                                                   &#x27;Sex upon Intake&#x27;]),\n",
       "                                                 (&#x27;text_pipe1&#x27;,\n",
       "                                                  Pipeline(steps=[(&#x27;vectorized&#x27;,\n",
       "                                                                   CountVectorizer(binary=True,\n",
       "                                                                                   max_features=50))]),\n",
       "                                                  &#x27;Color&#x27;),\n",
       "                                                 (&#x27;text_pipe2&#x27;,\n",
       "                                                  Pipeline(steps=[(&#x27;vectorized&#x27;,\n",
       "                                                                   CountVectorizer(binary=True,\n",
       "                                                                                   max_features=150))]),\n",
       "                                                  &#x27;Breed&#x27;)])),\n",
       "                (&#x27;decisiontree&#x27;,\n",
       "                 DecisionTreeClassifier(max_depth=100, min_samples_leaf=10,\n",
       "                                        min_samples_split=15))])</pre></div></div></div><div class=\"sk-serial\"><div class=\"sk-item sk-dashed-wrapped\"><div class=\"sk-label-container\"><div class=\"sk-label sk-toggleable\"><input class=\"sk-toggleable__control sk-hidden--visually\" id=\"sk-estimator-id-56\" type=\"checkbox\" ><label for=\"sk-estimator-id-56\" class=\"sk-toggleable__label sk-toggleable__label-arrow\">data_preprocess: ColumnTransformer</label><div class=\"sk-toggleable__content\"><pre>ColumnTransformer(transformers=[(&#x27;num_pipe&#x27;,\n",
       "                                 Pipeline(steps=[(&#x27;impute&#x27;, SimpleImputer()),\n",
       "                                                 (&#x27;scal&#x27;, MinMaxScaler())]),\n",
       "                                 [&#x27;Age upon Intake Days&#x27;,\n",
       "                                  &#x27;Age upon Outcome Days&#x27;]),\n",
       "                                (&#x27;cat_pipe&#x27;,\n",
       "                                 Pipeline(steps=[(&#x27;impute&#x27;,\n",
       "                                                  SimpleImputer(fill_value=&#x27;missing&#x27;,\n",
       "                                                                strategy=&#x27;constant&#x27;)),\n",
       "                                                 (&#x27;scale&#x27;,\n",
       "                                                  OneHotEncoder(handle_unknown=&#x27;ignore&#x27;))]),\n",
       "                                 [&#x27;Sex upon Outcome&#x27;, &#x27;Intake Type&#x27;,\n",
       "                                  &#x27;Intake Condition&#x27;, &#x27;Pet Type&#x27;,\n",
       "                                  &#x27;Sex upon Intake&#x27;]),\n",
       "                                (&#x27;text_pipe1&#x27;,\n",
       "                                 Pipeline(steps=[(&#x27;vectorized&#x27;,\n",
       "                                                  CountVectorizer(binary=True,\n",
       "                                                                  max_features=50))]),\n",
       "                                 &#x27;Color&#x27;),\n",
       "                                (&#x27;text_pipe2&#x27;,\n",
       "                                 Pipeline(steps=[(&#x27;vectorized&#x27;,\n",
       "                                                  CountVectorizer(binary=True,\n",
       "                                                                  max_features=150))]),\n",
       "                                 &#x27;Breed&#x27;)])</pre></div></div></div><div class=\"sk-parallel\"><div class=\"sk-parallel-item\"><div class=\"sk-item\"><div class=\"sk-label-container\"><div class=\"sk-label sk-toggleable\"><input class=\"sk-toggleable__control sk-hidden--visually\" id=\"sk-estimator-id-57\" type=\"checkbox\" ><label for=\"sk-estimator-id-57\" class=\"sk-toggleable__label sk-toggleable__label-arrow\">num_pipe</label><div class=\"sk-toggleable__content\"><pre>[&#x27;Age upon Intake Days&#x27;, &#x27;Age upon Outcome Days&#x27;]</pre></div></div></div><div class=\"sk-serial\"><div class=\"sk-item\"><div class=\"sk-serial\"><div class=\"sk-item\"><div class=\"sk-estimator sk-toggleable\"><input class=\"sk-toggleable__control sk-hidden--visually\" id=\"sk-estimator-id-58\" type=\"checkbox\" ><label for=\"sk-estimator-id-58\" class=\"sk-toggleable__label sk-toggleable__label-arrow\">SimpleImputer</label><div class=\"sk-toggleable__content\"><pre>SimpleImputer()</pre></div></div></div><div class=\"sk-item\"><div class=\"sk-estimator sk-toggleable\"><input class=\"sk-toggleable__control sk-hidden--visually\" id=\"sk-estimator-id-59\" type=\"checkbox\" ><label for=\"sk-estimator-id-59\" class=\"sk-toggleable__label sk-toggleable__label-arrow\">MinMaxScaler</label><div class=\"sk-toggleable__content\"><pre>MinMaxScaler()</pre></div></div></div></div></div></div></div></div><div class=\"sk-parallel-item\"><div class=\"sk-item\"><div class=\"sk-label-container\"><div class=\"sk-label sk-toggleable\"><input class=\"sk-toggleable__control sk-hidden--visually\" id=\"sk-estimator-id-60\" type=\"checkbox\" ><label for=\"sk-estimator-id-60\" class=\"sk-toggleable__label sk-toggleable__label-arrow\">cat_pipe</label><div class=\"sk-toggleable__content\"><pre>[&#x27;Sex upon Outcome&#x27;, &#x27;Intake Type&#x27;, &#x27;Intake Condition&#x27;, &#x27;Pet Type&#x27;, &#x27;Sex upon Intake&#x27;]</pre></div></div></div><div class=\"sk-serial\"><div class=\"sk-item\"><div class=\"sk-serial\"><div class=\"sk-item\"><div class=\"sk-estimator sk-toggleable\"><input class=\"sk-toggleable__control sk-hidden--visually\" id=\"sk-estimator-id-61\" type=\"checkbox\" ><label for=\"sk-estimator-id-61\" class=\"sk-toggleable__label sk-toggleable__label-arrow\">SimpleImputer</label><div class=\"sk-toggleable__content\"><pre>SimpleImputer(fill_value=&#x27;missing&#x27;, strategy=&#x27;constant&#x27;)</pre></div></div></div><div class=\"sk-item\"><div class=\"sk-estimator sk-toggleable\"><input class=\"sk-toggleable__control sk-hidden--visually\" id=\"sk-estimator-id-62\" type=\"checkbox\" ><label for=\"sk-estimator-id-62\" class=\"sk-toggleable__label sk-toggleable__label-arrow\">OneHotEncoder</label><div class=\"sk-toggleable__content\"><pre>OneHotEncoder(handle_unknown=&#x27;ignore&#x27;)</pre></div></div></div></div></div></div></div></div><div class=\"sk-parallel-item\"><div class=\"sk-item\"><div class=\"sk-label-container\"><div class=\"sk-label sk-toggleable\"><input class=\"sk-toggleable__control sk-hidden--visually\" id=\"sk-estimator-id-63\" type=\"checkbox\" ><label for=\"sk-estimator-id-63\" class=\"sk-toggleable__label sk-toggleable__label-arrow\">text_pipe1</label><div class=\"sk-toggleable__content\"><pre>Color</pre></div></div></div><div class=\"sk-serial\"><div class=\"sk-item\"><div class=\"sk-serial\"><div class=\"sk-item\"><div class=\"sk-estimator sk-toggleable\"><input class=\"sk-toggleable__control sk-hidden--visually\" id=\"sk-estimator-id-64\" type=\"checkbox\" ><label for=\"sk-estimator-id-64\" class=\"sk-toggleable__label sk-toggleable__label-arrow\">CountVectorizer</label><div class=\"sk-toggleable__content\"><pre>CountVectorizer(binary=True, max_features=50)</pre></div></div></div></div></div></div></div></div><div class=\"sk-parallel-item\"><div class=\"sk-item\"><div class=\"sk-label-container\"><div class=\"sk-label sk-toggleable\"><input class=\"sk-toggleable__control sk-hidden--visually\" id=\"sk-estimator-id-65\" type=\"checkbox\" ><label for=\"sk-estimator-id-65\" class=\"sk-toggleable__label sk-toggleable__label-arrow\">text_pipe2</label><div class=\"sk-toggleable__content\"><pre>Breed</pre></div></div></div><div class=\"sk-serial\"><div class=\"sk-item\"><div class=\"sk-serial\"><div class=\"sk-item\"><div class=\"sk-estimator sk-toggleable\"><input class=\"sk-toggleable__control sk-hidden--visually\" id=\"sk-estimator-id-66\" type=\"checkbox\" ><label for=\"sk-estimator-id-66\" class=\"sk-toggleable__label sk-toggleable__label-arrow\">CountVectorizer</label><div class=\"sk-toggleable__content\"><pre>CountVectorizer(binary=True, max_features=150)</pre></div></div></div></div></div></div></div></div></div></div><div class=\"sk-item\"><div class=\"sk-estimator sk-toggleable\"><input class=\"sk-toggleable__control sk-hidden--visually\" id=\"sk-estimator-id-67\" type=\"checkbox\" ><label for=\"sk-estimator-id-67\" class=\"sk-toggleable__label sk-toggleable__label-arrow\">DecisionTreeClassifier</label><div class=\"sk-toggleable__content\"><pre>DecisionTreeClassifier(max_depth=100, min_samples_leaf=10, min_samples_split=15)</pre></div></div></div></div></div></div></div>"
      ],
      "text/plain": [
       "Pipeline(steps=[('data_preprocess',\n",
       "                 ColumnTransformer(transformers=[('num_pipe',\n",
       "                                                  Pipeline(steps=[('impute',\n",
       "                                                                   SimpleImputer()),\n",
       "                                                                  ('scal',\n",
       "                                                                   MinMaxScaler())]),\n",
       "                                                  ['Age upon Intake Days',\n",
       "                                                   'Age upon Outcome Days']),\n",
       "                                                 ('cat_pipe',\n",
       "                                                  Pipeline(steps=[('impute',\n",
       "                                                                   SimpleImputer(fill_value='missing',\n",
       "                                                                                 strategy='constant')),\n",
       "                                                                  ('scale',\n",
       "                                                                   OneHotEncoder(handle_unknown='ignore'))]),\n",
       "                                                  ['Sex upon Out...\n",
       "                                                   'Intake Type',\n",
       "                                                   'Intake Condition',\n",
       "                                                   'Pet Type',\n",
       "                                                   'Sex upon Intake']),\n",
       "                                                 ('text_pipe1',\n",
       "                                                  Pipeline(steps=[('vectorized',\n",
       "                                                                   CountVectorizer(binary=True,\n",
       "                                                                                   max_features=50))]),\n",
       "                                                  'Color'),\n",
       "                                                 ('text_pipe2',\n",
       "                                                  Pipeline(steps=[('vectorized',\n",
       "                                                                   CountVectorizer(binary=True,\n",
       "                                                                                   max_features=150))]),\n",
       "                                                  'Breed')])),\n",
       "                ('decisiontree',\n",
       "                 DecisionTreeClassifier(max_depth=100, min_samples_leaf=10,\n",
       "                                        min_samples_split=15))])"
      ]
     },
     "execution_count": 41,
     "metadata": {},
     "output_type": "execute_result"
    }
   ],
   "source": [
    "classifier = gridsearch.best_estimator_\n",
    "\n",
    "classifier.fit(X_train, y_train)"
   ]
  },
  {
   "cell_type": "code",
   "execution_count": 42,
   "id": "2934a171-50cc-46a9-81ad-a473f00d4ba9",
   "metadata": {},
   "outputs": [
    {
     "name": "stdout",
     "output_type": "stream",
     "text": [
      "[[34114  6553]\n",
      " [ 4404 36263]]\n",
      "Accuracy Score is 0.8652838911156466\n",
      "              precision    recall  f1-score   support\n",
      "\n",
      "         0.0       0.89      0.84      0.86     40667\n",
      "         1.0       0.85      0.89      0.87     40667\n",
      "\n",
      "    accuracy                           0.87     81334\n",
      "   macro avg       0.87      0.87      0.87     81334\n",
      "weighted avg       0.87      0.87      0.87     81334\n",
      "\n"
     ]
    }
   ],
   "source": [
    "train_pred = classifier.predict(X_train)\n",
    "print(confusion_matrix(y_train, train_pred))\n",
    "print(\"Accuracy Score is\", accuracy_score(y_train, train_pred))\n",
    "print(classification_report(y_train, train_pred))\n",
    "      "
   ]
  },
  {
   "cell_type": "code",
   "execution_count": 43,
   "id": "ce5cfa1c-ca22-483a-87c5-64b012f384a4",
   "metadata": {},
   "outputs": [
    {
     "name": "stdout",
     "output_type": "stream",
     "text": [
      "Confusion Matrix\n",
      "[[2845  821]\n",
      " [ 633 3956]]\n",
      "Accuracy Score is 0.8238643246517262\n",
      "              precision    recall  f1-score   support\n",
      "\n",
      "         0.0       0.82      0.78      0.80      3666\n",
      "         1.0       0.83      0.86      0.84      4589\n",
      "\n",
      "    accuracy                           0.82      8255\n",
      "   macro avg       0.82      0.82      0.82      8255\n",
      "weighted avg       0.82      0.82      0.82      8255\n",
      "\n"
     ]
    }
   ],
   "source": [
    "test_prediction = classifier.predict(X_test)\n",
    "print(\"Confusion Matrix\")\n",
    "print(confusion_matrix(y_test, test_prediction))\n",
    "print(\"Accuracy Score is\", accuracy_score(y_test, test_prediction))\n",
    "print(classification_report(y_test, test_prediction))"
   ]
  },
  {
   "cell_type": "markdown",
   "id": "2a6ffded-970d-4f9d-bd26-44d12a4200d6",
   "metadata": {},
   "source": [
    "### In this case the tuned parameters performed worse than the original model, could be the gridsearch is not exhaustive enough or the parameters chosen in the paragrid are worse than the original"
   ]
  },
  {
   "cell_type": "code",
   "execution_count": null,
   "id": "fe07bfbb-d01c-4a76-89cc-3c31036c7d07",
   "metadata": {},
   "outputs": [],
   "source": []
  }
 ],
 "metadata": {
  "kernelspec": {
   "display_name": "Python 3 (ipykernel)",
   "language": "python",
   "name": "python3"
  },
  "language_info": {
   "codemirror_mode": {
    "name": "ipython",
    "version": 3
   },
   "file_extension": ".py",
   "mimetype": "text/x-python",
   "name": "python",
   "nbconvert_exporter": "python",
   "pygments_lexer": "ipython3",
   "version": "3.10.4"
  }
 },
 "nbformat": 4,
 "nbformat_minor": 5
}
