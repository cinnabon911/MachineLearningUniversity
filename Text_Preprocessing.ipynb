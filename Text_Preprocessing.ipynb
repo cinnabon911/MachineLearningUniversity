{
 "cells": [
  {
   "cell_type": "markdown",
   "id": "cd785a42-6b9a-4ecc-965e-23484e4ca990",
   "metadata": {},
   "source": [
    "# Text Preprocessing \n",
    "### convert text features into numerical features ML models can work with"
   ]
  },
  {
   "cell_type": "markdown",
   "id": "0ab09e0c-9e92-4e11-b488-be6d85c772e7",
   "metadata": {},
   "source": [
    "## 1. General text pre-processing methods"
   ]
  },
  {
   "cell_type": "code",
   "execution_count": 1,
   "id": "234d8237-4b58-4c27-8137-3e4091577bfc",
   "metadata": {},
   "outputs": [],
   "source": [
    "text = \"   This is a message to be cleaned. It may involve some things like: <br>, ?, :, ''  adjacent spaces and tabs     .  \""
   ]
  },
  {
   "cell_type": "markdown",
   "id": "1eab4f7e-e97e-4a5b-9cc5-893b7cae191c",
   "metadata": {},
   "source": [
    "### get rid of leading/trailing whitespace"
   ]
  },
  {
   "cell_type": "code",
   "execution_count": 6,
   "id": "e116733a-ece8-42ac-ac80-6da3ad18ece2",
   "metadata": {},
   "outputs": [
    {
     "name": "stdout",
     "output_type": "stream",
     "text": [
      "this is a message to be cleaned it may involve some things like      adjacent spaces and tabs\n"
     ]
    }
   ],
   "source": [
    "text = text.strip().lower()\n",
    "print(text)"
   ]
  },
  {
   "cell_type": "markdown",
   "id": "985c69a9-bd58-419d-9b4b-d3bbddb0da0e",
   "metadata": {},
   "source": [
    "### Remove HTML tag, markups"
   ]
  },
  {
   "cell_type": "code",
   "execution_count": 3,
   "id": "c17f6f20-6333-4b01-bd0c-f3d71acc850d",
   "metadata": {},
   "outputs": [
    {
     "name": "stdout",
     "output_type": "stream",
     "text": [
      "   This is a message to be cleaned. It may involve some things like: , ?, :, ''  adjacent spaces and tabs     .  \n"
     ]
    }
   ],
   "source": [
    "import re\n",
    "text = re.compile('<.*?>').sub('', text)\n",
    "print(text)"
   ]
  },
  {
   "cell_type": "markdown",
   "id": "1a7fcbbf-6304-48a9-8739-e9ce2b3adb14",
   "metadata": {},
   "source": [
    "### Replace punctuation with space"
   ]
  },
  {
   "cell_type": "code",
   "execution_count": 5,
   "id": "580e7a77-2783-4623-a176-7e6511874804",
   "metadata": {},
   "outputs": [
    {
     "name": "stdout",
     "output_type": "stream",
     "text": [
      "   This is a message to be cleaned It may involve some things like      adjacent spaces and tabs       \n"
     ]
    }
   ],
   "source": [
    "import string\n",
    "text = re.compile('[%s]' % re.escape(string.punctuation)).sub('', text)\n",
    "print(text)"
   ]
  },
  {
   "cell_type": "markdown",
   "id": "84421e09-0814-4f3e-abba-aa3411da9530",
   "metadata": {},
   "source": [
    "### Remove extra spaces and tabs"
   ]
  },
  {
   "cell_type": "code",
   "execution_count": 7,
   "id": "f08f932f-bf8f-4333-bba2-75b27008f28c",
   "metadata": {},
   "outputs": [
    {
     "name": "stdout",
     "output_type": "stream",
     "text": [
      "this is a message to be cleaned it may involve some things like adjacent spaces and tabs\n"
     ]
    }
   ],
   "source": [
    "text = re.sub('\\s+', ' ', text)\n",
    "print(text)"
   ]
  },
  {
   "cell_type": "markdown",
   "id": "03891e45-4295-44fd-8954-56819e8c3cd6",
   "metadata": {},
   "source": [
    "## 2. Lexicon-based text pre-processing\n",
    "### normalize sentences in the dataset so that sentences are in a similar format"
   ]
  },
  {
   "cell_type": "markdown",
   "id": "52e1e31f-c3a4-4b5a-890d-ac9b7b9e7bb6",
   "metadata": {},
   "source": [
    "### Stop word removal"
   ]
  },
  {
   "cell_type": "code",
   "execution_count": null,
   "id": "66fb788b-ac15-4700-8828-d66a9b64c6a0",
   "metadata": {},
   "outputs": [],
   "source": [
    "stop_words = [\"a\", \"an\", \"the\", \"this\", \"that\", \"is\", \"it\", \"to\", \"and\"]\n"
   ]
  }
 ],
 "metadata": {
  "kernelspec": {
   "display_name": "conda_python3",
   "language": "python",
   "name": "conda_python3"
  },
  "language_info": {
   "codemirror_mode": {
    "name": "ipython",
    "version": 3
   },
   "file_extension": ".py",
   "mimetype": "text/x-python",
   "name": "python",
   "nbconvert_exporter": "python",
   "pygments_lexer": "ipython3",
   "version": "3.10.6"
  }
 },
 "nbformat": 4,
 "nbformat_minor": 5
}
